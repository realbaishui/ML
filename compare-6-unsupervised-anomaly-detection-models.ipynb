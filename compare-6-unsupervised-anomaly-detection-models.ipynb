{
 "cells": [
  {
   "cell_type": "markdown",
   "metadata": {
    "_uuid": "d77e17704754fcc12aed372eca3be84ef98ba442"
   },
   "source": [
    "# Comparison of anomaly detection algorithms on the credit card fraud dataset:\n",
    "\n",
    "* Multivariate Gaussian probability, Auto Encoders, Local Outlier Factor LOF, Robust Covariance (Elliptic Envelope), Isolation Forest and One Class SVM\n",
    "\n",
    "* I believe that a system for anomaly detection should NOT be a supervised ML algorithm as it will (maybe) learn only anomalies it has seen during training. The true magic lies in being able to identify an anomaly never seen before...\n",
    "* As the data is very skewed - there are **only 0.17%** fraudulent transactions in the 280k samples -  accuracy is not a good metric: any \"model\" predicting ALL are normal transactions will have a 99.83% accuracy. \n",
    "* We need to use Recall, Precision and their prodigy (harmonic mean) - the F1 score. I've tried to optimize each model's hyperparameters for the best F1.\n",
    "* The models below do not take into account the time sequences, (while still having the time as a separate feature).The time series nature of the anomaly detection should be dealt with RNN or LSMT or etc. - maybe another notebook.\n",
    "* The training set does NOT include any Fraud, so when the model is exposed to one in Test, it will stand out from the normal transactions. I've tried dividing the Fraud half into a Validation subset and half in Test - F1 score being lower.\n",
    "* PCA was used only for visualization. With or Without Scaling before PCA - F1 score very low.\n",
    "\n",
    "* With the above in mind I've compared between the following on F1 score on **Test**:\n",
    "\n",
    "\n",
    "### **Multivariate Gaussian prob distribution F1= 0.71** optimizing Epsilon \n",
    "\n",
    "### **Auto-encoders F1= 0.53** optimizing Reconstruction Error\n",
    "\n",
    "### **LOF Local Outlier Factor F1= 0.57** optimizing number of neighbors\n",
    "\n",
    "### **Robust Covariance (Elliptic Envelope) *F1= 0.80*** optimizing support fraction\n",
    "\n",
    "### **Isolation Forest F1= 0.47** optimizing num estimators\n",
    "\n",
    "### **One Class SVM F1= 0.27** optimizing nu\n",
    "\n",
    "\n",
    "### Check out nb comparing 5 supervised learning algorithms on this dataset using oversampling, SMOTE and ADASYN \n",
    "https://www.kaggle.com/drscarlat/fraud-detection-under-oversampling-smote-adasyn \n",
    "### ...it achieves F1 = 0.87\n",
    "\n",
    "* Many thanks to the following:\n",
    "* https://scikit-learn.org/stable/auto_examples/plot_anomaly_comparison.html#sphx-glr-auto-examples-plot-anomaly-comparison-py\n",
    "* https://www.kaggle.com/tildekarthik/a-multivariate-gaussian-anomaly-detection\n",
    "* https://www.kaggle.com/clemensmzr/simple-multivariate-gaussian-anomaly-detection\n"
   ]
  },
  {
   "cell_type": "code",
   "execution_count": 1,
   "metadata": {
    "_cell_guid": "39fa021b-426e-45a2-90a5-c5c3f1dea498",
    "_uuid": "16f9d7ff523d369820a361f01f1ab9d2f0dd70f7"
   },
   "outputs": [
    {
     "name": "stderr",
     "output_type": "stream",
     "text": [
      "Using TensorFlow backend.\n"
     ]
    },
    {
     "name": "stdout",
     "output_type": "stream",
     "text": [
      "/kaggle/input/creditcard.csv\n"
     ]
    }
   ],
   "source": [
    "# IMPORT MODULES\n",
    "\n",
    "import numpy as np\n",
    "from numpy import ma\n",
    "import pandas as pd\n",
    "import math\n",
    "import matplotlib\n",
    "import matplotlib.pyplot as plt\n",
    "import matplotlib.colors as colors\n",
    "%matplotlib inline\n",
    "from matplotlib import ticker, cm\n",
    "from matplotlib.pyplot import figure\n",
    "import seaborn as sns\n",
    "\n",
    "from scipy.stats import multivariate_normal\n",
    "from sklearn.metrics import f1_score, confusion_matrix, classification_report, precision_recall_fscore_support\n",
    "from sklearn.preprocessing import StandardScaler\n",
    "from sklearn.decomposition import PCA\n",
    "from sklearn.neighbors import LocalOutlierFactor\n",
    "from sklearn.ensemble import IsolationForest\n",
    "from sklearn.covariance import EllipticEnvelope\n",
    "from sklearn.svm import OneClassSVM\n",
    "\n",
    "from keras.models import Model, load_model\n",
    "from keras.layers import Input, Dense\n",
    "from keras.callbacks import ModelCheckpoint, TensorBoard\n",
    "from keras import regularizers\n",
    "\n",
    "import os\n",
    "for dirname, _, filenames in os.walk('/kaggle/input'):\n",
    "    for filename in filenames:\n",
    "        print(os.path.join(dirname, filename))"
   ]
  },
  {
   "cell_type": "code",
   "execution_count": 2,
   "metadata": {
    "_cell_guid": "a83bbbcc-3cfe-4f3d-8b1f-d60a8241eba4",
    "_uuid": "4aea5c7bfee88ad381c4c2b350195b2818338112"
   },
   "outputs": [
    {
     "name": "stdout",
     "output_type": "stream",
     "text": [
      "(284807, 31)\n",
      "Index(['Time', 'V1', 'V2', 'V3', 'V4', 'V5', 'V6', 'V7', 'V8', 'V9', 'V10',\n",
      "       'V11', 'V12', 'V13', 'V14', 'V15', 'V16', 'V17', 'V18', 'V19', 'V20',\n",
      "       'V21', 'V22', 'V23', 'V24', 'V25', 'V26', 'V27', 'V28', 'Amount',\n",
      "       'Class'],\n",
      "      dtype='object')\n"
     ]
    }
   ],
   "source": [
    "# LOAD DATA\n",
    "\n",
    "dfRaw = pd.read_csv('../input/creditcard.csv')\n",
    "print(dfRaw.shape)\n",
    "print(dfRaw.columns)"
   ]
  },
  {
   "cell_type": "code",
   "execution_count": 3,
   "metadata": {
    "_uuid": "d090dcd0ae534aec20381144696af2ac0f7707d5"
   },
   "outputs": [
    {
     "name": "stdout",
     "output_type": "stream",
     "text": [
      "data  (284807, 31)\n",
      "normal_data  (284315, 31)\n",
      "fraud_data  (492, 31)\n",
      "Percent fraud  0.173 %\n",
      "____________________________________________________________________________________________________\n",
      "   Time        V1        V2        V3  ...         V27       V28  Amount  Class\n",
      "0   0.0 -1.359807 -0.072781  2.536347  ...    0.133558 -0.021053  149.62      0\n",
      "1   0.0  1.191857  0.266151  0.166480  ...   -0.008983  0.014724    2.69      0\n",
      "2   1.0 -1.358354 -1.340163  1.773209  ...   -0.055353 -0.059752  378.66      0\n",
      "3   1.0 -0.966272 -0.185226  1.792993  ...    0.062723  0.061458  123.50      0\n",
      "4   2.0 -1.158233  0.877737  1.548718  ...    0.219422  0.215153   69.99      0\n",
      "\n",
      "[5 rows x 31 columns]\n"
     ]
    }
   ],
   "source": [
    "data = dfRaw.copy()\n",
    "normal_data = data.loc[data[\"Class\"] == 0]\n",
    "fraud_data = data.loc[data[\"Class\"] == 1]\n",
    "\n",
    "print(\"data \", data.shape)\n",
    "print(\"normal_data \", normal_data.shape)\n",
    "print(\"fraud_data \", fraud_data.shape)\n",
    "print(\"Percent fraud \", round(100*492/284807, 3),\"%\")\n",
    "print(\"_\"*100)\n",
    "print(data.head())"
   ]
  },
  {
   "cell_type": "markdown",
   "metadata": {
    "_uuid": "4a139ae5bac053937ede662b72b0208ef4c9da9b",
    "collapsed": true,
    "scrolled": true
   },
   "source": [
    " ...# Features' Prob DISTRIBUTION ... Visualization\n",
    "\n",
    "plt.figure()\n",
    "matplotlib.style.use('ggplot')\n",
    "pca_columns = list(data)[:-1]\n",
    "normal_data[pca_columns].hist(stacked=False, bins=100, figsize=(12,30), layout=(16,2))"
   ]
  },
  {
   "cell_type": "code",
   "execution_count": 4,
   "metadata": {
    "_uuid": "6aa7fb8697a80ede29dafc92e3759c223d519656"
   },
   "outputs": [
    {
     "name": "stdout",
     "output_type": "stream",
     "text": [
      "Mean 88.29102242225574 122.21132113821133\n",
      "Median 22.0 9.25\n"
     ]
    },
    {
     "data": {
      "image/png": "[encoded data removed]",
      "text/plain": [
       "<Figure size 432x288 with 1 Axes>"
      ]
     },
     "metadata": {},
     "output_type": "display_data"
    },
    {
     "data": {
      "image/png": "[encoded data removed]",
      "text/plain": [
       "<Figure size 432x288 with 1 Axes>"
      ]
     },
     "metadata": {},
     "output_type": "display_data"
    },
    {
     "data": {
      "text/plain": [
       "<Figure size 432x288 with 0 Axes>"
      ]
     },
     "metadata": {},
     "output_type": "display_data"
    }
   ],
   "source": [
    "# PLOT AMOUNT - Norm vs Fraud\n",
    "\n",
    "normal_data[\"Amount\"].loc[normal_data[\"Amount\"] < 500].hist(bins=100);\n",
    "plt.figure()\n",
    "fraud_data[\"Amount\"].loc[fraud_data[\"Amount\"] < 500].hist(bins=100);\n",
    "plt.figure()\n",
    "print(\"Mean\", normal_data[\"Amount\"].mean(), fraud_data[\"Amount\"].mean())\n",
    "print(\"Median\", normal_data[\"Amount\"].median(), fraud_data[\"Amount\"].median())"
   ]
  },
  {
   "cell_type": "code",
   "execution_count": 5,
   "metadata": {
    "_uuid": "18872b84ab10c918f78256100b06e91da53b7789"
   },
   "outputs": [
    {
     "data": {
      "text/plain": [
       "<Figure size 432x288 with 0 Axes>"
      ]
     },
     "execution_count": 5,
     "metadata": {},
     "output_type": "execute_result"
    },
    {
     "data": {
      "image/png": "[encoded data removed]",
      "text/plain": [
       "<Figure size 432x288 with 1 Axes>"
      ]
     },
     "metadata": {},
     "output_type": "display_data"
    },
    {
     "data": {
      "image/png": "[encoded data removed]",
      "text/plain": [
       "<Figure size 432x288 with 1 Axes>"
      ]
     },
     "metadata": {},
     "output_type": "display_data"
    },
    {
     "data": {
      "text/plain": [
       "<Figure size 432x288 with 0 Axes>"
      ]
     },
     "metadata": {},
     "output_type": "display_data"
    }
   ],
   "source": [
    "# PLOT TIME - Norm vs Fraud\n",
    "\n",
    "normal_data[\"Time\"].hist(bins=100);\n",
    "plt.figure()\n",
    "fraud_data[\"Time\"].hist(bins=100);\n",
    "plt.figure()"
   ]
  },
  {
   "cell_type": "markdown",
   "metadata": {
    "_uuid": "4b4e8235bdfc6023f16f7ebfc250dce1766dd892",
    "scrolled": false
   },
   "source": [
    "colors = np.where(data[\"Class\"]==1,'r','y')\n",
    "\n",
    "data.plot.scatter(\"Time\",\"Amount\", c=colors)\n",
    "data.plot.scatter(\"V1\",\"V2\", c=colors)\n",
    "data.plot.scatter(\"V1\",\"Amount\", c=colors)\n"
   ]
  },
  {
   "cell_type": "code",
   "execution_count": 6,
   "metadata": {
    "_uuid": "d22ed15fdd566ac52645519d4104d1f398875b65",
    "scrolled": false
   },
   "outputs": [
    {
     "name": "stdout",
     "output_type": "stream",
     "text": [
      "data  (284807, 31)\n",
      "normal_data  (284315, 31)\n",
      "fraud_data  (492, 31)\n",
      "Percent fraud  0.1727 %\n"
     ]
    }
   ],
   "source": [
    "#  SCALER / Normalization\n",
    "\n",
    "data = dfRaw.copy()\n",
    "scl = StandardScaler()\n",
    "all_cols = list(data)[:] \n",
    "pca_columns = list(data)[:-1] # all cols without Class\n",
    "Xcopy = data[pca_columns]\n",
    "XcopyALL = data[all_cols]\n",
    "Xscaled = scl.fit_transform(Xcopy)\n",
    "OnlyClass = data['Class'].values.reshape(-1,1)\n",
    "data = np.concatenate((Xscaled, OnlyClass), axis=1)\n",
    "data = pd.DataFrame(data, columns = XcopyALL.columns)\n",
    "\n",
    "normal_data = data.loc[data[\"Class\"] == 0]\n",
    "fraud_data = data.loc[data[\"Class\"] == 1]\n",
    "\n",
    "print(\"data \", data.shape)\n",
    "print(\"normal_data \", normal_data.shape)\n",
    "print(\"fraud_data \", fraud_data.shape)\n",
    "print(\"Percent fraud \", round(100*492/284807, 4),\"%\")"
   ]
  },
  {
   "cell_type": "code",
   "execution_count": 7,
   "metadata": {
    "_uuid": "aa3171a509fef5a01025cec92bbb858fcad83ef2"
   },
   "outputs": [
    {
     "name": "stdout",
     "output_type": "stream",
     "text": [
      "data['Time'].mean()   -1.0503786406559267e-14\n",
      "data['Amount'].mean()   3.202236423019539e-16\n"
     ]
    }
   ],
   "source": [
    "# Check values are centered around 0 after normalization\n",
    "\n",
    "print(\"data['Time'].mean()  \", data['Time'].mean())\n",
    "print(\"data['Amount'].mean()  \", data['Amount'].mean())"
   ]
  },
  {
   "cell_type": "markdown",
   "metadata": {},
   "source": [
    "# Fraud goes into Test only. Train contains only normal transactions.\n",
    "\n",
    "* Trying with Fraud in both valid and test = F1 score on test = 0.55\n",
    "* **Fraud only in test** = F1 score on test = 0.71\n",
    "* If there are no fraud in valid - there's no need for valid\n"
   ]
  },
  {
   "cell_type": "code",
   "execution_count": 8,
   "metadata": {
    "_uuid": "b4f5e7beb7d54a7e588588fae46f5baaa862192f"
   },
   "outputs": [
    {
     "name": "stdout",
     "output_type": "stream",
     "text": [
      "normal_pca_data  (284315, 30)\n",
      "fraud_pca_data (492, 30)\n",
      "Fraud data only in Test with NONE in the training\n",
      "X_train  (209315, 30)\n",
      "X_test  (75492, 30)\n",
      "y_test  (75492,)\n"
     ]
    }
   ],
   "source": [
    "# CREATE the TRAIN and TEST sets\n",
    "# Fraud data is ONLY in TEST - not in TRAIN\n",
    "\n",
    "normal_pca_data = normal_data[pca_columns]\n",
    "fraud_pca_data = fraud_data[pca_columns]\n",
    "\n",
    "num_test = 75000\n",
    "shuffled_data = normal_pca_data.sample(frac=1, random_state=1960)[:-num_test].values\n",
    "X_train = shuffled_data\n",
    "\n",
    "#X_valid = np.concatenate([shuffled_data[-2*num_test:-num_test], fraud_pca_data[:246]])\n",
    "#y_valid = np.concatenate([np.zeros(num_test), np.ones(246)])\n",
    "\n",
    "X_test = np.concatenate([shuffled_data[-num_test:], fraud_pca_data[:]])\n",
    "y_test = np.concatenate([np.zeros(num_test), np.ones(492)])\n",
    "\n",
    "print(\"normal_pca_data \", normal_pca_data.shape)\n",
    "print(\"fraud_pca_data\", fraud_pca_data.shape)\n",
    "print(\"Fraud data only in Test with NONE in the training\")\n",
    "print(\"X_train \", X_train.shape)\n",
    "#print(\"X_valid \", X_valid.shape)\n",
    "#print(\"y_valid \", y_valid.shape)\n",
    "print(\"X_test \", X_test.shape)\n",
    "print(\"y_test \", y_test.shape)"
   ]
  },
  {
   "cell_type": "markdown",
   "metadata": {},
   "source": [
    "# Multi-variate Gaussian prob distribution"
   ]
  },
  {
   "cell_type": "code",
   "execution_count": 9,
   "metadata": {
    "_uuid": "9b18032b819c61d729cc70947ed2da5919e473f7"
   },
   "outputs": [
    {
     "name": "stdout",
     "output_type": "stream",
     "text": [
      "max prob of x on X_train 2.2552386882103866e-12\n",
      "mean prob of x on X_train 6.093073190798978e-14\n",
      "------------------------------------------------------------\n",
      "max prob of x on X_test 1.7789447276196493e-12\n",
      "mean prob of x on X_test 6.003670188291262e-14\n",
      "------------------------------------------------------------\n",
      "max prob of x on fraud_pca_data 9.639574675464676e-14\n",
      "mean prob of x on fraud_pca_data 1.050866112741088e-15\n",
      "------------------------------------------------------------\n",
      "Difference between mean prob of Train vs Test  8.940300250771593e-16\n"
     ]
    }
   ],
   "source": [
    "# Calculate the  prob on train vs test vs fraud data only (no normals at all)\n",
    "\n",
    "p = multivariate_normal(mean=np.mean(X_train,axis=0), cov=np.cov(X_train.T))\n",
    "\n",
    "x = p.pdf(X_train)\n",
    "print(\"max prob of x on X_train\", max(x))\n",
    "print(\"mean prob of x on X_train\", np.mean(x))\n",
    "print('-' * 60)\n",
    "MyTrain = np.mean(x)\n",
    "\n",
    "x = p.pdf(X_test)\n",
    "print(\"max prob of x on X_test\", max(x))\n",
    "print(\"mean prob of x on X_test\", np.mean(x))\n",
    "print('-' * 60)\n",
    "MyTest = np.mean(x)\n",
    "\n",
    "x = p.pdf(fraud_pca_data)\n",
    "print(\"max prob of x on fraud_pca_data\", max(x))\n",
    "print(\"mean prob of x on fraud_pca_data\", np.mean(x))\n",
    "print('-' * 60)\n",
    "\n",
    "print('Difference between mean prob of Train vs Test ', MyTrain - MyTest)\n"
   ]
  },
  {
   "cell_type": "code",
   "execution_count": 10,
   "metadata": {},
   "outputs": [],
   "source": [
    "# Precision = percentage of Fraud caught\n",
    "# Recall = percentage of those caught that are actually Fraud\n",
    "# F1 score = Harmonic mean of P & R\n",
    "# Need to optimize on the hyperparamter of EPSILON"
   ]
  },
  {
   "cell_type": "markdown",
   "metadata": {},
   "source": [
    "# Optimize Epsilon"
   ]
  },
  {
   "cell_type": "code",
   "execution_count": 11,
   "metadata": {},
   "outputs": [
    {
     "data": {
      "text/html": [
       "<div>\n",
       "<style scoped>\n",
       "    .dataframe tbody tr th:only-of-type {\n",
       "        vertical-align: middle;\n",
       "    }\n",
       "\n",
       "    .dataframe tbody tr th {\n",
       "        vertical-align: top;\n",
       "    }\n",
       "\n",
       "    .dataframe thead th {\n",
       "        text-align: right;\n",
       "    }\n",
       "</style>\n",
       "<table border=\"1\" class=\"dataframe\">\n",
       "  <thead>\n",
       "    <tr style=\"text-align: right;\">\n",
       "      <th></th>\n",
       "      <th>epsilon</th>\n",
       "      <th>F1</th>\n",
       "    </tr>\n",
       "  </thead>\n",
       "  <tbody>\n",
       "    <tr>\n",
       "      <th>0</th>\n",
       "      <td>1.000000e-10</td>\n",
       "      <td>0.0130</td>\n",
       "    </tr>\n",
       "    <tr>\n",
       "      <th>1</th>\n",
       "      <td>1.000000e-20</td>\n",
       "      <td>0.1143</td>\n",
       "    </tr>\n",
       "    <tr>\n",
       "      <th>2</th>\n",
       "      <td>1.000000e-30</td>\n",
       "      <td>0.2772</td>\n",
       "    </tr>\n",
       "    <tr>\n",
       "      <th>3</th>\n",
       "      <td>1.000000e-40</td>\n",
       "      <td>0.3767</td>\n",
       "    </tr>\n",
       "    <tr>\n",
       "      <th>4</th>\n",
       "      <td>1.000000e-50</td>\n",
       "      <td>0.4399</td>\n",
       "    </tr>\n",
       "  </tbody>\n",
       "</table>\n",
       "</div>"
      ],
      "text/plain": [
       "        epsilon      F1\n",
       "0  1.000000e-10  0.0130\n",
       "1  1.000000e-20  0.1143\n",
       "2  1.000000e-30  0.2772\n",
       "3  1.000000e-40  0.3767\n",
       "4  1.000000e-50  0.4399"
      ]
     },
     "execution_count": 11,
     "metadata": {},
     "output_type": "execute_result"
    }
   ],
   "source": [
    "# Find best epsilon re F1 score\n",
    "\n",
    "x = p.pdf(X_test)\n",
    "\n",
    "EpsF1 = []\n",
    "\n",
    "epsilons = [1e-10, 1e-20, 1e-30, 1e-40, 1e-50, 1e-60, 1e-70, 1e-80, 1e-90, 1e-100, 1e-110, 1e-120,\n",
    "           1e-130, 1e-140, 1e-150, 1e-160, 1e-170, 1e-180, 1e-190, 1e-200, 1e-210, 1e-220, 1e-230, 1e-240]\n",
    "\n",
    "for e in range(len(epsilons)):\n",
    "    eps = epsilons[e]\n",
    "    pred = (x <= eps)\n",
    "    f = f1_score(y_test, pred, average='binary')\n",
    "    #print(\"F1 score on test\", round(f,4), \" with epsilon \", eps)\n",
    "    EpsF1.append([eps, round(f,4)])\n",
    "    \n",
    "EpsF1df = pd.DataFrame(EpsF1, columns = ['epsilon', 'F1'])\n",
    "EpsF1df.head()"
   ]
  },
  {
   "cell_type": "code",
   "execution_count": 12,
   "metadata": {},
   "outputs": [
    {
     "data": {
      "text/plain": [
       "epsilon    1.000000e-140\n",
       "F1          7.139000e-01\n",
       "Name: 13, dtype: float64"
      ]
     },
     "execution_count": 12,
     "metadata": {},
     "output_type": "execute_result"
    }
   ],
   "source": [
    "# Best Epsilon ... Max F1 on test\n",
    "\n",
    "EpsF1df.loc[EpsF1df['F1'].idxmax()]\n"
   ]
  },
  {
   "cell_type": "code",
   "execution_count": 13,
   "metadata": {},
   "outputs": [
    {
     "data": {
      "image/png": "[encoded data removed]",
      "text/plain": [
       "<Figure size 432x288 with 1 Axes>"
      ]
     },
     "metadata": {},
     "output_type": "display_data"
    }
   ],
   "source": [
    "EpsF1df.plot.line(\"epsilon\",\"F1\")\n",
    "plt.xscale('log')\n",
    "plt.xlim(1e-10, 1e-240)\n",
    "plt.title(\"F1 vs decreasing log Epsilon\")\n",
    "plt.show()"
   ]
  },
  {
   "cell_type": "code",
   "execution_count": 14,
   "metadata": {
    "_uuid": "a08ddc6bdc8c5ed376721d7bd7fd09724db8120a"
   },
   "outputs": [
    {
     "name": "stdout",
     "output_type": "stream",
     "text": [
      "epsilon  1e-140\n",
      "__________________________________________________\n",
      "[[74820   180]\n",
      " [  119   373]]\n",
      "__________________________________________________\n",
      "TP  373\n",
      "FP  180\n",
      "TN  74820\n",
      "FN  119\n"
     ]
    }
   ],
   "source": [
    "# CONFUSION MATRIX and F1 SCORE on Test w best epsilon\n",
    "\n",
    "eps = EpsF1df.loc[EpsF1df['F1'].idxmax()]['epsilon']\n",
    "\n",
    "print(\"epsilon \", eps)\n",
    "print(\"_\"*50)\n",
    "pred = (x<=eps)\n",
    "CM = confusion_matrix(y_test,pred)\n",
    "tn, fp, fn, tp = confusion_matrix(y_test,pred).ravel()\n",
    "\n",
    "print(CM)\n",
    "print(\"_\"*50)\n",
    "print(\"TP \", tp)\n",
    "print(\"FP \", fp)\n",
    "print(\"TN \", tn)\n",
    "print(\"FN \", fn)"
   ]
  },
  {
   "cell_type": "code",
   "execution_count": 15,
   "metadata": {},
   "outputs": [],
   "source": [
    "def plot_confusion_matrix(cm,target_names,title='Confusion matrix',cmap=None,\n",
    "                          normalize=False):\n",
    "    import itertools\n",
    "    accuracy = np.trace(cm) / float(np.sum(cm))\n",
    "    misclass = 1 - accuracy\n",
    "\n",
    "    if cmap is None:\n",
    "        cmap = plt.get_cmap('Blues')\n",
    "\n",
    "    plt.figure(figsize=(8, 6))\n",
    "    plt.imshow(cm, interpolation='nearest', cmap=cmap)\n",
    "    plt.title(title)\n",
    "    plt.colorbar()\n",
    "\n",
    "    if target_names is not None:\n",
    "        tick_marks = np.arange(len(target_names))\n",
    "        plt.xticks(tick_marks, target_names, rotation=45)\n",
    "        plt.yticks(tick_marks, target_names)\n",
    "\n",
    "    if normalize:\n",
    "        cm = cm.astype('float') / cm.sum(axis=1)[:, np.newaxis]\n",
    "        \n",
    "    thresh = cm.max() / 1.5 if normalize else cm.max() / 2\n",
    "    for i, j in itertools.product(range(cm.shape[0]), range(cm.shape[1])):\n",
    "        if normalize:\n",
    "            plt.text(j, i, \"{:0.4f}\".format(cm[i, j]),\n",
    "                     horizontalalignment=\"center\",\n",
    "                     color=\"white\" if cm[i, j] > thresh else \"black\")\n",
    "        else:\n",
    "            plt.text(j, i, \"{:,}\".format(cm[i, j]),\n",
    "                     horizontalalignment=\"center\",\n",
    "                     color=\"white\" if cm[i, j] > thresh else \"black\")\n",
    "\n",
    "\n",
    "    plt.tight_layout()\n",
    "    plt.ylabel('True label')\n",
    "    plt.xlabel('Predicted label\\naccuracy={:0.4f}; misclass={:0.4f}'.format(accuracy, misclass))\n",
    "    plt.show()"
   ]
  },
  {
   "cell_type": "code",
   "execution_count": 16,
   "metadata": {},
   "outputs": [
    {
     "data": {
      "image/png": "[encoded data removed]",
      "text/plain": [
       "<Figure size 576x432 with 2 Axes>"
      ]
     },
     "metadata": {},
     "output_type": "display_data"
    }
   ],
   "source": [
    "plot_confusion_matrix(CM, \n",
    "                      normalize    = False,\n",
    "                      target_names = ['Normal', 'Fraud'],\n",
    "                      title        = \"Confusion Matrix\")"
   ]
  },
  {
   "cell_type": "code",
   "execution_count": 17,
   "metadata": {},
   "outputs": [
    {
     "name": "stdout",
     "output_type": "stream",
     "text": [
      "precision  0.675\n",
      "recall  0.758\n",
      "F1 score on Test 0.714\n"
     ]
    }
   ],
   "source": [
    "# F1 Score\n",
    "#print(\"F1 score\", round(f1_score(y_valid,pred, average='binary'), 4))\n",
    "precision,recall,fbeta_score, support  = precision_recall_fscore_support(y_test,pred, average='binary')\n",
    "print(\"precision \", round((precision), 3))\n",
    "print(\"recall \", round((recall), 3))\n",
    "print(\"F1 score on Test\", round((fbeta_score), 3))"
   ]
  },
  {
   "cell_type": "markdown",
   "metadata": {},
   "source": [
    "# PCA = 2 ... Only for visualization ... with or without prior scaling = low F1\n"
   ]
  },
  {
   "cell_type": "markdown",
   "metadata": {},
   "source": [
    "#  SCALER / Normalization\n",
    "\n",
    "data = dfRaw.copy()\n",
    "scl = StandardScaler()\n",
    "all_cols = list(data)[:] \n",
    "pca_columns = list(data)[:-1] # all cols without Class\n",
    "Xcopy = data[pca_columns]\n",
    "XcopyALL = data[all_cols]\n",
    "Xscaled = scl.fit_transform(Xcopy)\n",
    "OnlyClass = data['Class'].values.reshape(-1,1)\n",
    "data = np.concatenate((Xscaled, OnlyClass), axis=1)\n",
    "data = pd.DataFrame(data, columns = XcopyALL.columns)\n",
    "print(\"Before PCA\")\n",
    "print(data.shape)\n",
    "print(\"AFTER PCA\")"
   ]
  },
  {
   "cell_type": "code",
   "execution_count": 18,
   "metadata": {
    "_uuid": "5e78237e36845df760bcb36b0932d45f5c46d80d"
   },
   "outputs": [
    {
     "name": "stdout",
     "output_type": "stream",
     "text": [
      "Before PCA\n",
      "(284807, 31)\n",
      "AFTER PCA\n",
      "(284807, 3)\n",
      "data  (284807, 3)\n",
      "normal_data  (284315, 3)\n",
      "fraud_data  (492, 3)\n",
      "Percent fraud  0.1727 %\n"
     ]
    }
   ],
   "source": [
    "#  PCA \n",
    "\n",
    "data = dfRaw.copy()\n",
    "print(\"Before PCA\")\n",
    "print(data.shape)\n",
    "print(\"AFTER PCA\")\n",
    "\n",
    "pca = PCA(n_components = 0.999999) # This way of setting the components = knowledge of the VARIANCE loss during PCA\n",
    "\n",
    "all_cols = list(data)[:] \n",
    "pca_columns = list(data)[:-1] \n",
    "Xcopy = data[pca_columns]\n",
    "XcopyALL = data[all_cols]\n",
    "dataPostPCA = pca.fit_transform(Xcopy)\n",
    "OnlyClass = data['Class'].values.reshape(-1,1)\n",
    "data = np.concatenate((dataPostPCA, OnlyClass), axis=1)\n",
    "data = pd.DataFrame(data, columns = [0,1,'Class'])\n",
    "\n",
    "normal_data = data.loc[data[\"Class\"] == 0]\n",
    "fraud_data = data.loc[data[\"Class\"] == 1]\n",
    "\n",
    "print(data.shape)\n",
    "print(\"data \", data.shape)\n",
    "print(\"normal_data \", normal_data.shape)\n",
    "print(\"fraud_data \", fraud_data.shape)\n",
    "print(\"Percent fraud \", round(100*492/284807, 4),\"%\")\n",
    "\n",
    "#print(data.head)"
   ]
  },
  {
   "cell_type": "markdown",
   "metadata": {},
   "source": [
    "# For viz AFTER Scaling and PCA\n",
    "postPCA = pd.DataFrame(data)\n",
    "\n",
    "postPCA.plot.scatter(0,1)\n",
    "plt.xlim(-10, 80)\n",
    "plt.ylim(-10, 10)\n",
    "plt.title(\"Normal post PCA\")\n",
    "plt.show()\n",
    "\n",
    "postPCA = pd.DataFrame(fraud_data)\n",
    "\n",
    "postPCA.plot.scatter(0,1, c='r')\n",
    "plt.xlim(-10, 80)\n",
    "plt.ylim(-10, 10)\n",
    "plt.title(\"Normal post PCA\")\n",
    "plt.show()"
   ]
  },
  {
   "cell_type": "code",
   "execution_count": 19,
   "metadata": {},
   "outputs": [
    {
     "data": {
      "image/png": "[encoded data removed]",
      "text/plain": [
       "<Figure size 432x288 with 1 Axes>"
      ]
     },
     "metadata": {},
     "output_type": "display_data"
    },
    {
     "data": {
      "image/png": "[encoded data removed]",
      "text/plain": [
       "<Figure size 432x288 with 1 Axes>"
      ]
     },
     "metadata": {},
     "output_type": "display_data"
    }
   ],
   "source": [
    "#postPCA = pd.DataFrame(normal_data.sample(10000))\n",
    "postPCA = pd.DataFrame(data)\n",
    "\n",
    "postPCA.plot.scatter(0,1)\n",
    "plt.xlim(-100000, 100000)\n",
    "plt.ylim(0, 30000)\n",
    "plt.title(\"Normal post PCA\")\n",
    "plt.show()\n",
    "\n",
    "postPCA = pd.DataFrame(fraud_data)\n",
    "\n",
    "postPCA.plot.scatter(0,1, c='r')\n",
    "plt.xlim(-100000, 100000)\n",
    "plt.ylim(0, 30000)\n",
    "plt.title(\"Fraud post PCA\")\n",
    "plt.show()"
   ]
  },
  {
   "cell_type": "code",
   "execution_count": 20,
   "metadata": {
    "_uuid": "9a8df4d0c2055330b78d591c54f76ece442ebc2a"
   },
   "outputs": [],
   "source": [
    "\n",
    "normal_data = normal_data.drop('Class', axis=1)\n",
    "fraud_data = fraud_data.drop('Class', axis=1)"
   ]
  },
  {
   "cell_type": "code",
   "execution_count": 21,
   "metadata": {
    "_uuid": "8cc6686d6d3a50b8a81af8cbfda1fb602899af43"
   },
   "outputs": [
    {
     "data": {
      "image/png": "[encoded data removed]",
      "text/plain": [
       "<Figure size 1332x756 with 2 Axes>"
      ]
     },
     "metadata": {},
     "output_type": "display_data"
    }
   ],
   "source": [
    "# View the FRAUD on a 2 dims (Post PCA) Guassian distribution of the normal data\n",
    "# Reducing from 30 dims to 2 - helps with the visualization but surely doesn't help with separating the Fraud from the Normal\n",
    "\n",
    "x, y = np.mgrid[-100000:100000:100, -1000:3000:100] \n",
    "pos = np.empty(x.shape + (2,))\n",
    "pos[:, :, 0] = x; pos[:, :, 1] = y\n",
    "rv = multivariate_normal(mean=np.mean(normal_data,axis=0), cov=np.cov(normal_data.T)) # mean and covariance matrix for 2 dims dataset\n",
    "\n",
    "fig, ax = plt.subplots()\n",
    "cs = ax.contourf(x, y, rv.pdf(pos))\n",
    "cbar = fig.colorbar(cs)\n",
    "plt.title(\"Fraud projected on normal distribution\")\n",
    "plt.scatter(fraud_data[0],fraud_data[1], edgecolor=\"r\") # Location on chart of the anomaly points\n",
    "fig = matplotlib.pyplot.gcf()\n",
    "fig.set_size_inches(18.5, 10.5)\n",
    "#plt.show()"
   ]
  },
  {
   "cell_type": "code",
   "execution_count": 22,
   "metadata": {
    "_uuid": "76f290bb74811ced591dea9620a99844e2fcccfb"
   },
   "outputs": [
    {
     "data": {
      "image/png": "[encoded data removed]",
      "text/plain": [
       "<Figure size 1332x756 with 2 Axes>"
      ]
     },
     "metadata": {},
     "output_type": "display_data"
    }
   ],
   "source": [
    "# View some NORMAL on a 2 dims (Post PCA) Guassian distribution of the normal data\n",
    "# Reducing from 30 dims to 2 - helps with the visualization but surely doesn't help with separating the Fraud from the Normal\n",
    "\n",
    "SampleNormal = normal_data.sample(500)\n",
    "\n",
    "x, y = np.mgrid[-100000:100000:100, -1000:3000:100] \n",
    "pos = np.empty(x.shape + (2,))\n",
    "pos[:, :, 0] = x; pos[:, :, 1] = y\n",
    "rv = multivariate_normal(mean=np.mean(normal_data,axis=0), cov=np.cov(normal_data.T)) # mean and covariance matrix for 2 dims dataset\n",
    "\n",
    "fig, ax = plt.subplots()\n",
    "cs = ax.contourf(x, y, rv.pdf(pos))\n",
    "cbar = fig.colorbar(cs)\n",
    "plt.title(\"Normal sample of 500 projected on normal distribution\")\n",
    "plt.scatter(SampleNormal[0],SampleNormal[1], edgecolor=\"b\") # Location on chart of the anomaly points\n",
    "fig = matplotlib.pyplot.gcf()\n",
    "fig.set_size_inches(18.5, 10.5)\n",
    "#plt.show()"
   ]
  },
  {
   "cell_type": "code",
   "execution_count": 23,
   "metadata": {
    "_kg_hide-input": true
   },
   "outputs": [
    {
     "name": "stdout",
     "output_type": "stream",
     "text": [
      "Before PCA\n",
      "(284807, 31)\n",
      "AFTER PCA\n",
      "(284807, 3)\n",
      "data  (284807, 3)\n",
      "normal_data  (284315, 3)\n",
      "fraud_data  (492, 3)\n",
      "Percent fraud  0.1727 %\n"
     ]
    }
   ],
   "source": [
    "data = dfRaw.copy()\n",
    "\n",
    "print(\"Before PCA\")\n",
    "print(data.shape)\n",
    "print(\"AFTER PCA\")\n",
    "\n",
    "pca = PCA(n_components = 0.999999) \n",
    "\n",
    "all_cols = list(data)[:] \n",
    "pca_columns = list(data)[:-1] \n",
    "Xcopy = data[pca_columns]\n",
    "XcopyALL = data[all_cols]\n",
    "dataPostPCA = pca.fit_transform(Xcopy)\n",
    "OnlyClass = data['Class'].values.reshape(-1,1)\n",
    "data = np.concatenate((dataPostPCA, OnlyClass), axis=1)\n",
    "data = pd.DataFrame(data, columns = [0,1,'Class'])\n",
    "\n",
    "normal_data = data.loc[data[\"Class\"] == 0]\n",
    "fraud_data = data.loc[data[\"Class\"] == 1]\n",
    "\n",
    "print(data.shape)\n",
    "print(\"data \", data.shape)\n",
    "print(\"normal_data \", normal_data.shape)\n",
    "print(\"fraud_data \", fraud_data.shape)\n",
    "print(\"Percent fraud \", round(100*492/284807, 4),\"%\")"
   ]
  },
  {
   "cell_type": "code",
   "execution_count": 24,
   "metadata": {
    "_kg_hide-input": true
   },
   "outputs": [
    {
     "name": "stdout",
     "output_type": "stream",
     "text": [
      "normal_pca_data  (284315, 2)\n",
      "fraud_pca_data (492, 2)\n",
      "Fraud data only in Test with NONE in the training\n",
      "X_train  (209315, 2)\n",
      "X_test  (75492, 2)\n",
      "y_test  (75492,)\n"
     ]
    }
   ],
   "source": [
    "# CREATE the TRAIN and TEST sets\n",
    "# Fraud data is ONLY in TEST - not in TRAIN\n",
    "\n",
    "normal_pca_data = normal_data.drop('Class',1)\n",
    "fraud_pca_data = fraud_data.drop('Class',1)\n",
    "\n",
    "num_test = 75000\n",
    "shuffled_data = normal_pca_data.sample(frac=1, random_state=1960)[:-num_test].values\n",
    "X_train = shuffled_data\n",
    "\n",
    "#X_valid = np.concatenate([shuffled_data[-2*num_test:-num_test], fraud_pca_data[:246]])\n",
    "#y_valid = np.concatenate([np.zeros(num_test), np.ones(246)])\n",
    "\n",
    "X_test = np.concatenate([shuffled_data[-num_test:], fraud_pca_data[:]])\n",
    "y_test = np.concatenate([np.zeros(num_test), np.ones(492)])\n",
    "\n",
    "print(\"normal_pca_data \", normal_pca_data.shape)\n",
    "print(\"fraud_pca_data\", fraud_pca_data.shape)\n",
    "print(\"Fraud data only in Test with NONE in the training\")\n",
    "print(\"X_train \", X_train.shape)\n",
    "#print(\"X_valid \", X_valid.shape)\n",
    "#print(\"y_valid \", y_valid.shape)\n",
    "print(\"X_test \", X_test.shape)\n",
    "print(\"y_test \", y_test.shape)"
   ]
  },
  {
   "cell_type": "code",
   "execution_count": 25,
   "metadata": {},
   "outputs": [
    {
     "name": "stdout",
     "output_type": "stream",
     "text": [
      "max prob of x on X_train 1.3693787767813743e-08\n",
      "mean prob of x on X_train 8.169867741057064e-09\n",
      "------------------------------------------------------------\n",
      "max prob of x on X_test 1.3692169625512509e-08\n",
      "mean prob of x on X_test 8.157129019234404e-09\n",
      "------------------------------------------------------------\n",
      "max prob of x on fraud_pca_data 1.368315208328899e-08\n",
      "mean prob of x on fraud_pca_data 7.468033220044287e-09\n",
      "------------------------------------------------------------\n",
      "Difference between mean prob of Train vs Test  1.2738721822659997e-11\n"
     ]
    }
   ],
   "source": [
    "# Calculate the  prob on train vs test vs fraud data only (no normals at all)\n",
    "\n",
    "p = multivariate_normal(mean=np.mean(X_train,axis=0), cov=np.cov(X_train.T))\n",
    "\n",
    "x = p.pdf(X_train)\n",
    "print(\"max prob of x on X_train\", max(x))\n",
    "print(\"mean prob of x on X_train\", np.mean(x))\n",
    "print('-' * 60)\n",
    "MyTrain = np.mean(x)\n",
    "\n",
    "x = p.pdf(X_test)\n",
    "print(\"max prob of x on X_test\", max(x))\n",
    "print(\"mean prob of x on X_test\", np.mean(x))\n",
    "print('-' * 60)\n",
    "MyTest = np.mean(x)\n",
    "\n",
    "x = p.pdf(fraud_pca_data)\n",
    "print(\"max prob of x on fraud_pca_data\", max(x))\n",
    "print(\"mean prob of x on fraud_pca_data\", np.mean(x))\n",
    "print('-' * 60)\n",
    "\n",
    "print('Difference between mean prob of Train vs Test ', MyTrain - MyTest)"
   ]
  },
  {
   "cell_type": "code",
   "execution_count": 26,
   "metadata": {},
   "outputs": [
    {
     "data": {
      "text/html": [
       "<div>\n",
       "<style scoped>\n",
       "    .dataframe tbody tr th:only-of-type {\n",
       "        vertical-align: middle;\n",
       "    }\n",
       "\n",
       "    .dataframe tbody tr th {\n",
       "        vertical-align: top;\n",
       "    }\n",
       "\n",
       "    .dataframe thead th {\n",
       "        text-align: right;\n",
       "    }\n",
       "</style>\n",
       "<table border=\"1\" class=\"dataframe\">\n",
       "  <thead>\n",
       "    <tr style=\"text-align: right;\">\n",
       "      <th></th>\n",
       "      <th>epsilon</th>\n",
       "      <th>F1</th>\n",
       "    </tr>\n",
       "  </thead>\n",
       "  <tbody>\n",
       "    <tr>\n",
       "      <th>0</th>\n",
       "      <td>0.10000</td>\n",
       "      <td>0.013</td>\n",
       "    </tr>\n",
       "    <tr>\n",
       "      <th>1</th>\n",
       "      <td>0.01000</td>\n",
       "      <td>0.013</td>\n",
       "    </tr>\n",
       "    <tr>\n",
       "      <th>2</th>\n",
       "      <td>0.00100</td>\n",
       "      <td>0.013</td>\n",
       "    </tr>\n",
       "    <tr>\n",
       "      <th>3</th>\n",
       "      <td>0.00010</td>\n",
       "      <td>0.013</td>\n",
       "    </tr>\n",
       "    <tr>\n",
       "      <th>4</th>\n",
       "      <td>0.00001</td>\n",
       "      <td>0.013</td>\n",
       "    </tr>\n",
       "  </tbody>\n",
       "</table>\n",
       "</div>"
      ],
      "text/plain": [
       "   epsilon     F1\n",
       "0  0.10000  0.013\n",
       "1  0.01000  0.013\n",
       "2  0.00100  0.013\n",
       "3  0.00010  0.013\n",
       "4  0.00001  0.013"
      ]
     },
     "execution_count": 26,
     "metadata": {},
     "output_type": "execute_result"
    }
   ],
   "source": [
    "# Find best epsilon re F1 score\n",
    "\n",
    "x = p.pdf(X_test)\n",
    "\n",
    "EpsF1 = []\n",
    "\n",
    "epsilons = [1e-1, 1e-2, 1e-3, 1e-4, 1e-5, 1e-6, 1e-7, 1e-8, 1e-9, 1e-10]\n",
    "\n",
    "for e in range(len(epsilons)):\n",
    "    eps = epsilons[e]\n",
    "    pred = (x <= eps)\n",
    "    f = f1_score(y_test, pred, average='binary')\n",
    "    #print(\"F1 score on test\", round(f,4), \" with epsilon \", eps)\n",
    "    EpsF1.append([eps, round(f,4)])\n",
    "    \n",
    "EpsF1df = pd.DataFrame(EpsF1, columns = ['epsilon', 'F1'])\n",
    "EpsF1df.head()"
   ]
  },
  {
   "cell_type": "code",
   "execution_count": 27,
   "metadata": {},
   "outputs": [
    {
     "data": {
      "text/plain": [
       "epsilon    1.000000e-09\n",
       "F1         2.170000e-02\n",
       "Name: 8, dtype: float64"
      ]
     },
     "execution_count": 27,
     "metadata": {},
     "output_type": "execute_result"
    }
   ],
   "source": [
    "# Best Epsilon ... Max F1 on test\n",
    "\n",
    "EpsF1df.loc[EpsF1df['F1'].idxmax()]"
   ]
  },
  {
   "cell_type": "code",
   "execution_count": 28,
   "metadata": {},
   "outputs": [
    {
     "data": {
      "image/png": "[encoded data removed]",
      "text/plain": [
       "<Figure size 432x288 with 1 Axes>"
      ]
     },
     "metadata": {},
     "output_type": "display_data"
    }
   ],
   "source": [
    "EpsF1df.plot.line(\"epsilon\",\"F1\")\n",
    "plt.xscale('log')\n",
    "plt.xlim(1e-1, 1e-10)\n",
    "plt.title(\"F1 vs decreasing log Epsilon\")\n",
    "plt.show()"
   ]
  },
  {
   "cell_type": "markdown",
   "metadata": {},
   "source": [
    "Best F1 score after PCA = 0.022 ... similar F1 when scaling was used before PCA"
   ]
  },
  {
   "cell_type": "markdown",
   "metadata": {},
   "source": [
    "# Auto Encoders\n",
    "\n",
    "* The idea is to use the Reconstruction Error as the limit to separate between Normal (low reconstruction error) and Fraud anomalies (high reconstruction errors)\n",
    "* Reconstruction error is the MSE between the input X_train and the output of the autoencoder which has the same dimensions as X_train.\n",
    "* Not to be confused with the error between a prediction and the true label"
   ]
  },
  {
   "cell_type": "code",
   "execution_count": 29,
   "metadata": {
    "_kg_hide-input": true
   },
   "outputs": [
    {
     "name": "stdout",
     "output_type": "stream",
     "text": [
      "data  (284807, 31)\n",
      "normal_data  (284315, 31)\n",
      "fraud_data  (492, 31)\n",
      "Percent fraud  0.1727 %\n"
     ]
    }
   ],
   "source": [
    "#  SCALER / Normalization\n",
    "\n",
    "data = dfRaw.copy()\n",
    "scl = StandardScaler()\n",
    "all_cols = list(data)[:] \n",
    "pca_columns = list(data)[:-1] # all cols without Class\n",
    "Xcopy = data[pca_columns]\n",
    "XcopyALL = data[all_cols]\n",
    "Xscaled = scl.fit_transform(Xcopy)\n",
    "OnlyClass = data['Class'].values.reshape(-1,1)\n",
    "data = np.concatenate((Xscaled, OnlyClass), axis=1)\n",
    "data = pd.DataFrame(data, columns = XcopyALL.columns)\n",
    "\n",
    "normal_data = data.loc[data[\"Class\"] == 0]\n",
    "fraud_data = data.loc[data[\"Class\"] == 1]\n",
    "\n",
    "print(\"data \", data.shape)\n",
    "print(\"normal_data \", normal_data.shape)\n",
    "print(\"fraud_data \", fraud_data.shape)\n",
    "print(\"Percent fraud \", round(100*492/284807, 4),\"%\")"
   ]
  },
  {
   "cell_type": "code",
   "execution_count": 30,
   "metadata": {},
   "outputs": [
    {
     "name": "stdout",
     "output_type": "stream",
     "text": [
      "data['Time'].mean()   -1.0503786406559267e-14\n",
      "data['Amount'].mean()   3.202236423019539e-16\n"
     ]
    }
   ],
   "source": [
    "# Check values are centered around 0 after normalization\n",
    "\n",
    "print(\"data['Time'].mean()  \", data['Time'].mean())\n",
    "print(\"data['Amount'].mean()  \", data['Amount'].mean())"
   ]
  },
  {
   "cell_type": "code",
   "execution_count": 31,
   "metadata": {
    "_kg_hide-input": true
   },
   "outputs": [
    {
     "name": "stdout",
     "output_type": "stream",
     "text": [
      "normal_pca_data  (284315, 30)\n",
      "fraud_pca_data (492, 30)\n",
      "Fraud data only in Test with NONE in the training\n",
      "X_train  (209315, 30)\n",
      "X_test  (75492, 30)\n",
      "y_test  (75492,)\n"
     ]
    }
   ],
   "source": [
    "# CREATE the TRAIN and TEST sets\n",
    "# Fraud data is ONLY in TEST - not in TRAIN\n",
    "\n",
    "normal_pca_data = normal_data[pca_columns]\n",
    "fraud_pca_data = fraud_data[pca_columns]\n",
    "\n",
    "num_test = 75000\n",
    "shuffled_data = normal_pca_data.sample(frac=1, random_state=1960)[:-num_test].values\n",
    "X_train = shuffled_data\n",
    "\n",
    "X_test = np.concatenate([shuffled_data[-num_test:], fraud_pca_data[:]])\n",
    "y_test = np.concatenate([np.zeros(num_test), np.ones(492)])\n",
    "\n",
    "print(\"normal_pca_data \", normal_pca_data.shape)\n",
    "print(\"fraud_pca_data\", fraud_pca_data.shape)\n",
    "print(\"Fraud data only in Test with NONE in the training\")\n",
    "print(\"X_train \", X_train.shape)\n",
    "#print(\"X_valid \", X_valid.shape)\n",
    "#print(\"y_valid \", y_valid.shape)\n",
    "print(\"X_test \", X_test.shape)\n",
    "print(\"y_test \", y_test.shape)"
   ]
  },
  {
   "cell_type": "code",
   "execution_count": 32,
   "metadata": {},
   "outputs": [],
   "source": [
    "input_dim = X_train.shape[1]\n",
    "encoding_dim = 14"
   ]
  },
  {
   "cell_type": "code",
   "execution_count": 33,
   "metadata": {},
   "outputs": [
    {
     "name": "stdout",
     "output_type": "stream",
     "text": [
      "WARNING:tensorflow:From /opt/conda/lib/python3.6/site-packages/tensorflow/python/framework/op_def_library.py:263: colocate_with (from tensorflow.python.framework.ops) is deprecated and will be removed in a future version.\n",
      "Instructions for updating:\n",
      "Colocations handled automatically by placer.\n",
      "_________________________________________________________________\n",
      "Layer (type)                 Output Shape              Param #   \n",
      "=================================================================\n",
      "input_1 (InputLayer)         (None, 30)                0         \n",
      "_________________________________________________________________\n",
      "dense_1 (Dense)              (None, 14)                434       \n",
      "_________________________________________________________________\n",
      "dense_2 (Dense)              (None, 7)                 105       \n",
      "_________________________________________________________________\n",
      "dense_3 (Dense)              (None, 7)                 56        \n",
      "_________________________________________________________________\n",
      "dense_4 (Dense)              (None, 30)                240       \n",
      "=================================================================\n",
      "Total params: 835\n",
      "Trainable params: 835\n",
      "Non-trainable params: 0\n",
      "_________________________________________________________________\n"
     ]
    }
   ],
   "source": [
    "# Keras Auto Encoder model\n",
    "\n",
    "input_layer = Input(shape=(input_dim, ))\n",
    "\n",
    "encoder = Dense(encoding_dim, activation=\"tanh\", \n",
    "                activity_regularizer=regularizers.l1(10e-5))(input_layer)\n",
    "encoder = Dense(int(encoding_dim / 2), activation=\"relu\")(encoder)\n",
    "\n",
    "decoder = Dense(int(encoding_dim / 2), activation='tanh')(encoder)\n",
    "decoder = Dense(input_dim, activation='relu')(decoder)\n",
    "\n",
    "autoencoder = Model(inputs=input_layer, outputs=decoder)\n",
    "\n",
    "autoencoder.summary()"
   ]
  },
  {
   "cell_type": "code",
   "execution_count": 34,
   "metadata": {},
   "outputs": [
    {
     "name": "stdout",
     "output_type": "stream",
     "text": [
      "WARNING:tensorflow:From /opt/conda/lib/python3.6/site-packages/tensorflow/python/ops/math_ops.py:3066: to_int32 (from tensorflow.python.ops.math_ops) is deprecated and will be removed in a future version.\n",
      "Instructions for updating:\n",
      "Use tf.cast instead.\n",
      "Train on 209315 samples, validate on 75492 samples\n",
      "Epoch 1/10\n",
      "209315/209315 [==============================] - 10s 50us/step - loss: 0.7923 - acc: 0.3781 - val_loss: 0.8815 - val_acc: 0.4415\n",
      "Epoch 2/10\n",
      "209315/209315 [==============================] - 10s 50us/step - loss: 0.7287 - acc: 0.4706 - val_loss: 0.8617 - val_acc: 0.4922\n",
      "Epoch 3/10\n",
      "209315/209315 [==============================] - 11s 50us/step - loss: 0.7160 - acc: 0.5013 - val_loss: 0.8539 - val_acc: 0.5120\n",
      "Epoch 4/10\n",
      "209315/209315 [==============================] - 11s 52us/step - loss: 0.7093 - acc: 0.5113 - val_loss: 0.8460 - val_acc: 0.5182\n",
      "Epoch 5/10\n",
      "209315/209315 [==============================] - 11s 51us/step - loss: 0.7041 - acc: 0.5145 - val_loss: 0.8412 - val_acc: 0.5149\n",
      "Epoch 6/10\n",
      "209315/209315 [==============================] - 11s 50us/step - loss: 0.7008 - acc: 0.5147 - val_loss: 0.8361 - val_acc: 0.5120\n",
      "Epoch 7/10\n",
      "209315/209315 [==============================] - 10s 50us/step - loss: 0.6967 - acc: 0.5155 - val_loss: 0.8341 - val_acc: 0.5169\n",
      "Epoch 8/10\n",
      "209315/209315 [==============================] - 10s 49us/step - loss: 0.6938 - acc: 0.5153 - val_loss: 0.8308 - val_acc: 0.5182\n",
      "Epoch 9/10\n",
      "209315/209315 [==============================] - 10s 50us/step - loss: 0.6913 - acc: 0.5176 - val_loss: 0.8289 - val_acc: 0.5198\n",
      "Epoch 10/10\n",
      "209315/209315 [==============================] - 11s 51us/step - loss: 0.6895 - acc: 0.5193 - val_loss: 0.8270 - val_acc: 0.5275\n"
     ]
    }
   ],
   "source": [
    "nb_epoch = 10\n",
    "batch_size = 32\n",
    "\n",
    "autoencoder.compile(optimizer='adam', \n",
    "                    loss='mean_squared_error', \n",
    "                    metrics=['accuracy'])\n",
    "\n",
    "checkpointer = ModelCheckpoint(filepath=\"model.h5\",\n",
    "                               verbose=0,\n",
    "                               save_best_only=True)\n",
    "tensorboard = TensorBoard(log_dir='./logs',\n",
    "                          histogram_freq=0,\n",
    "                          write_graph=True,\n",
    "                          write_images=True)\n",
    "\n",
    "history = autoencoder.fit(X_train, X_train,\n",
    "                    epochs=nb_epoch,\n",
    "                    batch_size=batch_size,\n",
    "                    shuffle=True,\n",
    "                    validation_data=(X_test, X_test),\n",
    "                    verbose=1,\n",
    "                    callbacks=[checkpointer, tensorboard]).history"
   ]
  },
  {
   "cell_type": "code",
   "execution_count": 35,
   "metadata": {},
   "outputs": [
    {
     "data": {
      "image/png": "[encoded data removed]",
      "text/plain": [
       "<Figure size 432x288 with 1 Axes>"
      ]
     },
     "metadata": {},
     "output_type": "display_data"
    },
    {
     "data": {
      "image/png": "[encoded data removed]",
      "text/plain": [
       "<Figure size 432x288 with 1 Axes>"
      ]
     },
     "metadata": {},
     "output_type": "display_data"
    }
   ],
   "source": [
    "# VALIDATION LOSS curves\n",
    "\n",
    "plt.clf()\n",
    "history_dict = history\n",
    "loss_values = history_dict['loss']\n",
    "val_loss_values = history_dict['val_loss']\n",
    "epochs = range(1, (len(history_dict['loss']) + 1))\n",
    "plt.plot(epochs, loss_values, 'bo', label='Training loss')\n",
    "plt.plot(epochs, val_loss_values, 'r', label='Validation loss')\n",
    "plt.title('Training and validation loss')\n",
    "plt.xlabel('Epochs')\n",
    "plt.ylabel('Loss')\n",
    "plt.legend()\n",
    "plt.show()\n",
    "\n",
    "# VALIDATION ACCURACY curves\n",
    "\n",
    "plt.clf()\n",
    "acc_values = history_dict['acc']\n",
    "val_acc_values = history_dict['val_acc']\n",
    "epochs = range(1, (len(history_dict['acc']) + 1))\n",
    "plt.plot(epochs, acc_values, 'bo', label='Training acc')\n",
    "plt.plot(epochs, val_acc_values, 'r', label='Validation acc')\n",
    "plt.title('Training and validation accuracy')\n",
    "plt.xlabel('Epochs')\n",
    "plt.ylabel('Accuracy')\n",
    "plt.legend()\n",
    "plt.show()"
   ]
  },
  {
   "cell_type": "code",
   "execution_count": 36,
   "metadata": {},
   "outputs": [],
   "source": [
    "# Load the best model saved above during training\n",
    "\n",
    "autoencoder = load_model('model.h5')"
   ]
  },
  {
   "cell_type": "code",
   "execution_count": 37,
   "metadata": {},
   "outputs": [
    {
     "name": "stdout",
     "output_type": "stream",
     "text": [
      "209315  rows\n",
      "mean error of recon on TRAIN 0.68\n",
      "std error of recon on TRAIN 2.45\n"
     ]
    }
   ],
   "source": [
    "# Reconstruction error on Train\n",
    "\n",
    "# As Train has no Fraud\n",
    "y_train = np.zeros(X_train.shape[0])\n",
    "\n",
    "predictions = autoencoder.predict(X_train)\n",
    "predictions.shape\n",
    "\n",
    "mse = np.mean(np.power(X_train - predictions, 2), axis=1)\n",
    "error_df = pd.DataFrame({'reconstruction_error': mse,\n",
    "                        'true_class': y_train})\n",
    "print(error_df.shape[0], ' rows')\n",
    "print('mean error of recon on TRAIN', round(error_df.reconstruction_error.mean(),2))\n",
    "print('std error of recon on TRAIN', round(error_df.reconstruction_error.std(),2))"
   ]
  },
  {
   "cell_type": "code",
   "execution_count": 38,
   "metadata": {},
   "outputs": [
    {
     "name": "stdout",
     "output_type": "stream",
     "text": [
      "75492  rows\n",
      "mean error of recon on TEST 0.82\n",
      "std error of recon on TEST 3.86\n"
     ]
    }
   ],
   "source": [
    "# Reconstruction error on Test\n",
    "\n",
    "predictions = autoencoder.predict(X_test)\n",
    "predictions.shape\n",
    "\n",
    "mse = np.mean(np.power(X_test - predictions, 2), axis=1)\n",
    "error_df = pd.DataFrame({'reconstruction_error': mse,\n",
    "                        'true_class': y_test})\n",
    "print(error_df.shape[0], ' rows')\n",
    "print('mean error of recon on TEST', round(error_df.reconstruction_error.mean(),2))\n",
    "print('std error of recon on TEST', round(error_df.reconstruction_error.std(),2))"
   ]
  },
  {
   "cell_type": "code",
   "execution_count": 39,
   "metadata": {},
   "outputs": [
    {
     "name": "stdout",
     "output_type": "stream",
     "text": [
      "492  rows\n",
      "mean error of recon on FRAUD 21.9\n",
      "std error of recon on FRAUD 28.14\n"
     ]
    }
   ],
   "source": [
    "# Reconstruction error on Fraud\n",
    "\n",
    "# As Fraud is all Fraud\n",
    "y_Fraud = np.ones(fraud_pca_data.shape[0])\n",
    "y_Fraud.shape\n",
    "\n",
    "predictions = autoencoder.predict(fraud_pca_data)\n",
    "predictions.shape\n",
    "\n",
    "mse = np.mean(np.power(fraud_pca_data - predictions, 2), axis=1)\n",
    "error_df = pd.DataFrame({'reconstruction_error': mse,\n",
    "                        'true_class': y_Fraud})\n",
    "print(error_df.shape[0], ' rows')\n",
    "print('mean error of recon on FRAUD', round(error_df.reconstruction_error.mean(),2))\n",
    "print('std error of recon on FRAUD', round(error_df.reconstruction_error.std(),2))"
   ]
  },
  {
   "cell_type": "code",
   "execution_count": 40,
   "metadata": {},
   "outputs": [
    {
     "name": "stdout",
     "output_type": "stream",
     "text": [
      "75492  rows\n",
      "mean error of recon on TEST 0.82\n",
      "std error of recon on TEST 3.86\n",
      "F1 score on test 0.4357  with reconstruction error   4.0\n"
     ]
    }
   ],
   "source": [
    "# Predictions on Normal vs Fraud on Test ... using the reconstruction error as the parameter to tweak for best F1\n",
    "\n",
    "# Reconstruction error on Test\n",
    "\n",
    "predictions = autoencoder.predict(X_test)\n",
    "predictions.shape\n",
    "\n",
    "mse = np.mean(np.power(X_test - predictions, 2), axis=1)\n",
    "error_df = pd.DataFrame({'reconstruction_error': mse,\n",
    "                        'true_class': y_test})\n",
    "print(error_df.shape[0], ' rows')\n",
    "print('mean error of recon on TEST', round(error_df.reconstruction_error.mean(),2))\n",
    "print('std error of recon on TEST', round(error_df.reconstruction_error.std(),2))\n",
    "\n",
    "ReconError = 4.0\n",
    "\n",
    "pred = [1 if e > ReconError else 0 for e in error_df.reconstruction_error.values]\n",
    "len(pred)\n",
    "#pred = (x <= eps)\n",
    "f = f1_score(y_test, pred, average='binary')\n",
    "print(\"F1 score on test\", round(f,4), \" with reconstruction error  \", ReconError)"
   ]
  },
  {
   "cell_type": "markdown",
   "metadata": {},
   "source": [
    "# Optimize the reconstruction error for best F1"
   ]
  },
  {
   "cell_type": "code",
   "execution_count": 41,
   "metadata": {},
   "outputs": [
    {
     "data": {
      "text/html": [
       "<div>\n",
       "<style scoped>\n",
       "    .dataframe tbody tr th:only-of-type {\n",
       "        vertical-align: middle;\n",
       "    }\n",
       "\n",
       "    .dataframe tbody tr th {\n",
       "        vertical-align: top;\n",
       "    }\n",
       "\n",
       "    .dataframe thead th {\n",
       "        text-align: right;\n",
       "    }\n",
       "</style>\n",
       "<table border=\"1\" class=\"dataframe\">\n",
       "  <thead>\n",
       "    <tr style=\"text-align: right;\">\n",
       "      <th></th>\n",
       "      <th>ReconError</th>\n",
       "      <th>F1</th>\n",
       "    </tr>\n",
       "  </thead>\n",
       "  <tbody>\n",
       "    <tr>\n",
       "      <th>0</th>\n",
       "      <td>1</td>\n",
       "      <td>0.1075</td>\n",
       "    </tr>\n",
       "    <tr>\n",
       "      <th>1</th>\n",
       "      <td>2</td>\n",
       "      <td>0.2787</td>\n",
       "    </tr>\n",
       "    <tr>\n",
       "      <th>2</th>\n",
       "      <td>3</td>\n",
       "      <td>0.3740</td>\n",
       "    </tr>\n",
       "    <tr>\n",
       "      <th>3</th>\n",
       "      <td>4</td>\n",
       "      <td>0.4357</td>\n",
       "    </tr>\n",
       "    <tr>\n",
       "      <th>4</th>\n",
       "      <td>5</td>\n",
       "      <td>0.4573</td>\n",
       "    </tr>\n",
       "  </tbody>\n",
       "</table>\n",
       "</div>"
      ],
      "text/plain": [
       "   ReconError      F1\n",
       "0           1  0.1075\n",
       "1           2  0.2787\n",
       "2           3  0.3740\n",
       "3           4  0.4357\n",
       "4           5  0.4573"
      ]
     },
     "execution_count": 41,
     "metadata": {},
     "output_type": "execute_result"
    }
   ],
   "source": [
    "minRE = 1\n",
    "maxRE = 50\n",
    "    \n",
    "EpsF1 = []\n",
    "\n",
    "for TryRE in range(minRE,maxRE):\n",
    "    pred = [1 if e > TryRE else 0 for e in error_df.reconstruction_error.values]\n",
    "    f = f1_score(y_test, pred, average='binary')\n",
    "    #print(\"F1 score on test\", round(f,4), \" with epsilon \", eps)\n",
    "    EpsF1.append([TryRE, round(f,4)])\n",
    "    \n",
    "EpsF1df = pd.DataFrame(EpsF1, columns = ['ReconError', 'F1'])\n",
    "EpsF1df.head()"
   ]
  },
  {
   "cell_type": "code",
   "execution_count": 42,
   "metadata": {},
   "outputs": [
    {
     "data": {
      "text/plain": [
       "ReconError    7.0000\n",
       "F1            0.5047\n",
       "Name: 6, dtype: float64"
      ]
     },
     "execution_count": 42,
     "metadata": {},
     "output_type": "execute_result"
    }
   ],
   "source": [
    "# Best Recon Error ... Max F1 on test\n",
    "\n",
    "EpsF1df.loc[EpsF1df['F1'].idxmax()]"
   ]
  },
  {
   "cell_type": "code",
   "execution_count": 43,
   "metadata": {},
   "outputs": [
    {
     "data": {
      "image/png": "[encoded data removed]",
      "text/plain": [
       "<Figure size 432x288 with 1 Axes>"
      ]
     },
     "metadata": {},
     "output_type": "display_data"
    }
   ],
   "source": [
    "EpsF1df.plot.line(\"ReconError\",\"F1\")\n",
    "plt.xlim(1, 50)\n",
    "plt.title(\"F1 vs ReconError\")\n",
    "plt.show()"
   ]
  },
  {
   "cell_type": "markdown",
   "metadata": {},
   "source": [
    "# Local Outlier Factor (LOF)"
   ]
  },
  {
   "cell_type": "code",
   "execution_count": 44,
   "metadata": {
    "_kg_hide-input": true
   },
   "outputs": [
    {
     "name": "stdout",
     "output_type": "stream",
     "text": [
      "data  (284807, 31)\n",
      "normal_data  (284315, 31)\n",
      "fraud_data  (492, 31)\n",
      "Percent fraud  0.1727 %\n"
     ]
    }
   ],
   "source": [
    "#  SCALER / Normalization\n",
    "\n",
    "data = dfRaw.copy()\n",
    "scl = StandardScaler()\n",
    "all_cols = list(data)[:] \n",
    "pca_columns = list(data)[:-1] # all cols without Class\n",
    "Xcopy = data[pca_columns]\n",
    "XcopyALL = data[all_cols]\n",
    "Xscaled = scl.fit_transform(Xcopy)\n",
    "OnlyClass = data['Class'].values.reshape(-1,1)\n",
    "data = np.concatenate((Xscaled, OnlyClass), axis=1)\n",
    "data = pd.DataFrame(data, columns = XcopyALL.columns)\n",
    "\n",
    "normal_data = data.loc[data[\"Class\"] == 0]\n",
    "fraud_data = data.loc[data[\"Class\"] == 1]\n",
    "\n",
    "print(\"data \", data.shape)\n",
    "print(\"normal_data \", normal_data.shape)\n",
    "print(\"fraud_data \", fraud_data.shape)\n",
    "print(\"Percent fraud \", round(100*492/284807, 4),\"%\")"
   ]
  },
  {
   "cell_type": "markdown",
   "metadata": {},
   "source": [
    "The following on the 75,492 test LOF w 20 neighbors takes 12 mins so for running multiple times to find the best num of neighbors - we'll reduce the test size"
   ]
  },
  {
   "cell_type": "code",
   "execution_count": 45,
   "metadata": {
    "_kg_hide-input": true
   },
   "outputs": [
    {
     "name": "stdout",
     "output_type": "stream",
     "text": [
      "normal_pca_data  (284315, 30)\n",
      "fraud_pca_data (492, 30)\n",
      "Fraud data only in Test with NONE in the training\n",
      "X_train  (264315, 30)\n",
      "X_test  (20492, 30)\n",
      "y_test  (20492,)\n"
     ]
    }
   ],
   "source": [
    "# CREATE the TRAIN and TEST sets\n",
    "# Fraud data is ONLY in TEST - not in TRAIN\n",
    "\n",
    "normal_pca_data = normal_data[pca_columns]\n",
    "fraud_pca_data = fraud_data[pca_columns]\n",
    "\n",
    "num_test = 20000\n",
    "shuffled_data = normal_pca_data.sample(frac=1, random_state=1960)[:-num_test].values\n",
    "X_train = shuffled_data\n",
    "\n",
    "X_test = np.concatenate([shuffled_data[-num_test:], fraud_pca_data[:]])\n",
    "y_test = np.concatenate([np.zeros(num_test), np.ones(492)])\n",
    "\n",
    "print(\"normal_pca_data \", normal_pca_data.shape)\n",
    "print(\"fraud_pca_data\", fraud_pca_data.shape)\n",
    "print(\"Fraud data only in Test with NONE in the training\")\n",
    "print(\"X_train \", X_train.shape)\n",
    "#print(\"X_valid \", X_valid.shape)\n",
    "#print(\"y_valid \", y_valid.shape)\n",
    "print(\"X_test \", X_test.shape)\n",
    "print(\"y_test \", y_test.shape)"
   ]
  },
  {
   "cell_type": "code",
   "execution_count": 46,
   "metadata": {},
   "outputs": [
    {
     "name": "stdout",
     "output_type": "stream",
     "text": [
      "X_inliers  (20000, 30)\n",
      "X_outliers  (492, 30)\n",
      "X  (20492, 30)\n",
      "n_outliers  492\n",
      "percent fraud in test:  0.024009369510052704\n"
     ]
    }
   ],
   "source": [
    "X_inliers = shuffled_data[-num_test:]\n",
    "X_outliers = fraud_pca_data[:]\n",
    "X = np.r_[X_inliers, X_outliers]\n",
    "\n",
    "n_outliers = len(X_outliers)\n",
    "ground_truth = np.ones(len(X), dtype=int)\n",
    "ground_truth[-n_outliers:] = -1\n",
    "\n",
    "PercFraud = n_outliers / X_test.shape[0]\n",
    "PercFraud\n",
    "\n",
    "print('X_inliers ', X_inliers.shape)\n",
    "print('X_outliers ', X_outliers.shape)\n",
    "print('X ', X.shape)\n",
    "print('n_outliers ', n_outliers)\n",
    "print('percent fraud in test: ', PercFraud)"
   ]
  },
  {
   "cell_type": "code",
   "execution_count": 47,
   "metadata": {},
   "outputs": [
    {
     "name": "stdout",
     "output_type": "stream",
     "text": [
      "CPU times: user 34 s, sys: 0 ns, total: 34 s\n",
      "Wall time: 34.1 s\n"
     ]
    }
   ],
   "source": [
    "%%time\n",
    "\n",
    "# fit the model for outlier detection (default)\n",
    "clf = LocalOutlierFactor(n_neighbors=20, contamination = PercFraud)\n",
    "# use fit_predict to compute the predicted labels of the training samples\n",
    "# (when LOF is used for outlier detection, the estimator has no predict,\n",
    "# decision_function and score_samples methods).\n",
    "y_pred = clf.fit_predict(X)\n",
    "n_errors = (y_pred != ground_truth).sum()\n",
    "X_scores = clf.negative_outlier_factor_\n",
    "n_errors"
   ]
  },
  {
   "cell_type": "code",
   "execution_count": 48,
   "metadata": {},
   "outputs": [
    {
     "name": "stdout",
     "output_type": "stream",
     "text": [
      "accuracy  0.9544\n"
     ]
    }
   ],
   "source": [
    "print('accuracy ' , round(1 - (n_errors / X.shape[0]),4))"
   ]
  },
  {
   "cell_type": "code",
   "execution_count": 49,
   "metadata": {},
   "outputs": [
    {
     "name": "stdout",
     "output_type": "stream",
     "text": [
      "0    492\n",
      "dtype: int64\n",
      "0    492\n",
      "dtype: int64\n"
     ]
    }
   ],
   "source": [
    "# Note that the ground truth and the y_pred for LOF is different than the original ... inliers = normal = 1 and outliers = fraud = -1\n",
    "# We have to modify the y_pred for the F1 score calculation to be similar to the above \n",
    "\n",
    "y_predLOF = y_pred.copy()\n",
    "y_predDF = pd.DataFrame(y_predLOF)\n",
    "print(y_predDF[y_predDF[0] == -1].count())\n",
    "\n",
    "y_predDF[y_predDF[0] == 1] = 0\n",
    "y_predDF[y_predDF[0] == -1] = 1\n",
    "print(y_predDF[y_predDF[0] == 1].count())\n",
    "\n",
    "y_predLOF = y_predDF.values\n",
    "y_predLOF = np.ravel(y_predLOF)\n"
   ]
  },
  {
   "cell_type": "code",
   "execution_count": 50,
   "metadata": {},
   "outputs": [
    {
     "name": "stdout",
     "output_type": "stream",
     "text": [
      "precision  0.0508\n",
      "recall  0.0508\n",
      "F1 score on Test 0.0508\n"
     ]
    }
   ],
   "source": [
    "# F1 Score\n",
    "#print(\"F1 score\", round(f1_score(y_valid,pred, average='binary'), 4))\n",
    "precision,recall,fbeta_score, support  = precision_recall_fscore_support(y_test, y_predLOF, average='binary')\n",
    "print(\"precision \", round((precision), 4))\n",
    "print(\"recall \", round((recall), 4))\n",
    "print(\"F1 score on Test\", round((fbeta_score), 4))"
   ]
  },
  {
   "cell_type": "code",
   "execution_count": 51,
   "metadata": {},
   "outputs": [
    {
     "name": "stdout",
     "output_type": "stream",
     "text": [
      "F1 score on test 0.561  with num neighbors  500\n",
      "F1 score on test 0.5915  with num neighbors  600\n",
      "F1 score on test 0.6037  with num neighbors  700\n",
      "F1 score on test 0.6098  with num neighbors  800\n",
      "F1 score on test 0.6138  with num neighbors  900\n",
      "F1 score on test 0.6037  with num neighbors  1000\n"
     ]
    },
    {
     "data": {
      "text/html": [
       "<div>\n",
       "<style scoped>\n",
       "    .dataframe tbody tr th:only-of-type {\n",
       "        vertical-align: middle;\n",
       "    }\n",
       "\n",
       "    .dataframe tbody tr th {\n",
       "        vertical-align: top;\n",
       "    }\n",
       "\n",
       "    .dataframe thead th {\n",
       "        text-align: right;\n",
       "    }\n",
       "</style>\n",
       "<table border=\"1\" class=\"dataframe\">\n",
       "  <thead>\n",
       "    <tr style=\"text-align: right;\">\n",
       "      <th></th>\n",
       "      <th>NumNeighb</th>\n",
       "      <th>F1</th>\n",
       "    </tr>\n",
       "  </thead>\n",
       "  <tbody>\n",
       "    <tr>\n",
       "      <th>0</th>\n",
       "      <td>500</td>\n",
       "      <td>0.5610</td>\n",
       "    </tr>\n",
       "    <tr>\n",
       "      <th>1</th>\n",
       "      <td>600</td>\n",
       "      <td>0.5915</td>\n",
       "    </tr>\n",
       "    <tr>\n",
       "      <th>2</th>\n",
       "      <td>700</td>\n",
       "      <td>0.6037</td>\n",
       "    </tr>\n",
       "    <tr>\n",
       "      <th>3</th>\n",
       "      <td>800</td>\n",
       "      <td>0.6098</td>\n",
       "    </tr>\n",
       "    <tr>\n",
       "      <th>4</th>\n",
       "      <td>900</td>\n",
       "      <td>0.6138</td>\n",
       "    </tr>\n",
       "  </tbody>\n",
       "</table>\n",
       "</div>"
      ],
      "text/plain": [
       "   NumNeighb      F1\n",
       "0        500  0.5610\n",
       "1        600  0.5915\n",
       "2        700  0.6037\n",
       "3        800  0.6098\n",
       "4        900  0.6138"
      ]
     },
     "execution_count": 51,
     "metadata": {},
     "output_type": "execute_result"
    }
   ],
   "source": [
    "# Optimize num of neighbors hyper paramter for best F1\n",
    "\n",
    "minRE = 500\n",
    "maxRE = 1100\n",
    "    \n",
    "EpsF1 = []\n",
    "\n",
    "for TryRE in range(minRE,maxRE,100):\n",
    "    clf = LocalOutlierFactor(n_neighbors=TryRE, contamination = PercFraud)\n",
    "    y_pred = clf.fit_predict(X)\n",
    "    n_errors = (y_pred != ground_truth).sum()\n",
    "    X_scores = clf.negative_outlier_factor_\n",
    "    \n",
    "    y_predLOF = y_pred.copy()\n",
    "    y_predDF = pd.DataFrame(y_predLOF)\n",
    "    \n",
    "    y_predDF[y_predDF[0] == 1] = 0\n",
    "    y_predDF[y_predDF[0] == -1] = 1\n",
    "    \n",
    "    y_predLOF = y_predDF.values\n",
    "    y_predLOF = np.ravel(y_predLOF)\n",
    "    \n",
    "    precision,recall,fbeta_score, support  = precision_recall_fscore_support(y_test, y_predLOF, average='binary')\n",
    "    \n",
    "    print(\"F1 score on test\", round(fbeta_score,4), \" with num neighbors \", TryRE)\n",
    "    EpsF1.append([TryRE, round(fbeta_score,4)])\n",
    "    \n",
    "EpsF1df = pd.DataFrame(EpsF1, columns = ['NumNeighb', 'F1'])\n",
    "EpsF1df.head()"
   ]
  },
  {
   "cell_type": "code",
   "execution_count": 52,
   "metadata": {},
   "outputs": [
    {
     "data": {
      "image/png": "[encoded data removed]",
      "text/plain": [
       "<Figure size 432x288 with 1 Axes>"
      ]
     },
     "metadata": {},
     "output_type": "display_data"
    }
   ],
   "source": [
    "EpsF1df.plot.line(\"NumNeighb\",\"F1\")\n",
    "plt.xlim(500, 1000)\n",
    "plt.title(\"F1 vs NumNeighb\")\n",
    "plt.show()"
   ]
  },
  {
   "cell_type": "markdown",
   "metadata": {},
   "source": [
    "Knowing that 900 is the best num of neighbors for LOF we test the original 75,492 so the results can be compared to other models\n",
    "This may take 20 mins\n",
    "\n"
   ]
  },
  {
   "cell_type": "code",
   "execution_count": 53,
   "metadata": {
    "_kg_hide-input": true
   },
   "outputs": [
    {
     "name": "stdout",
     "output_type": "stream",
     "text": [
      "data  (284807, 31)\n",
      "normal_data  (284315, 31)\n",
      "fraud_data  (492, 31)\n",
      "Percent fraud  0.1727 %\n",
      "normal_pca_data  (284315, 30)\n",
      "fraud_pca_data (492, 30)\n",
      "Fraud data only in Test with NONE in the training\n",
      "X_train  (209315, 30)\n",
      "X_test  (75492, 30)\n",
      "y_test  (75492,)\n",
      "X_inliers  (75000, 30)\n",
      "X_outliers  (492, 30)\n",
      "X  (75492, 30)\n",
      "n_outliers  492\n",
      "percent fraud in test:  0.0065172468605945\n"
     ]
    }
   ],
   "source": [
    "data = dfRaw.copy()\n",
    "scl = StandardScaler()\n",
    "all_cols = list(data)[:] \n",
    "pca_columns = list(data)[:-1] # all cols without Class\n",
    "Xcopy = data[pca_columns]\n",
    "XcopyALL = data[all_cols]\n",
    "Xscaled = scl.fit_transform(Xcopy)\n",
    "OnlyClass = data['Class'].values.reshape(-1,1)\n",
    "data = np.concatenate((Xscaled, OnlyClass), axis=1)\n",
    "data = pd.DataFrame(data, columns = XcopyALL.columns)\n",
    "\n",
    "normal_data = data.loc[data[\"Class\"] == 0]\n",
    "fraud_data = data.loc[data[\"Class\"] == 1]\n",
    "\n",
    "print(\"data \", data.shape)\n",
    "print(\"normal_data \", normal_data.shape)\n",
    "print(\"fraud_data \", fraud_data.shape)\n",
    "print(\"Percent fraud \", round(100*492/284807, 4),\"%\")\n",
    "\n",
    "# CREATE the TRAIN and TEST sets\n",
    "# Fraud data is ONLY in TEST - not in TRAIN\n",
    "\n",
    "normal_pca_data = normal_data[pca_columns]\n",
    "fraud_pca_data = fraud_data[pca_columns]\n",
    "\n",
    "num_test = 75000\n",
    "shuffled_data = normal_pca_data.sample(frac=1, random_state=1960)[:-num_test].values\n",
    "X_train = shuffled_data\n",
    "\n",
    "X_test = np.concatenate([shuffled_data[-num_test:], fraud_pca_data[:]])\n",
    "y_test = np.concatenate([np.zeros(num_test), np.ones(492)])\n",
    "\n",
    "print(\"normal_pca_data \", normal_pca_data.shape)\n",
    "print(\"fraud_pca_data\", fraud_pca_data.shape)\n",
    "print(\"Fraud data only in Test with NONE in the training\")\n",
    "print(\"X_train \", X_train.shape)\n",
    "#print(\"X_valid \", X_valid.shape)\n",
    "#print(\"y_valid \", y_valid.shape)\n",
    "print(\"X_test \", X_test.shape)\n",
    "print(\"y_test \", y_test.shape)\n",
    "\n",
    "X_inliers = shuffled_data[-num_test:]\n",
    "X_outliers = fraud_pca_data[:]\n",
    "X = np.r_[X_inliers, X_outliers]\n",
    "\n",
    "n_outliers = len(X_outliers)\n",
    "ground_truth = np.ones(len(X), dtype=int)\n",
    "ground_truth[-n_outliers:] = -1\n",
    "\n",
    "PercFraud = n_outliers / X_test.shape[0]\n",
    "PercFraud\n",
    "\n",
    "print('X_inliers ', X_inliers.shape)\n",
    "print('X_outliers ', X_outliers.shape)\n",
    "print('X ', X.shape)\n",
    "print('n_outliers ', n_outliers)\n",
    "print('percent fraud in test: ', PercFraud)"
   ]
  },
  {
   "cell_type": "code",
   "execution_count": 54,
   "metadata": {},
   "outputs": [
    {
     "data": {
      "text/plain": [
       "420"
      ]
     },
     "execution_count": 54,
     "metadata": {},
     "output_type": "execute_result"
    }
   ],
   "source": [
    "clf = LocalOutlierFactor(n_neighbors=900, contamination = PercFraud)\n",
    "\n",
    "y_pred = clf.fit_predict(X)\n",
    "n_errors = (y_pred != ground_truth).sum()\n",
    "X_scores = clf.negative_outlier_factor_\n",
    "#print('accuracy ' , round(1 - (n_errors / X.shape[0]),4))\n",
    "n_errors"
   ]
  },
  {
   "cell_type": "code",
   "execution_count": 55,
   "metadata": {},
   "outputs": [
    {
     "name": "stdout",
     "output_type": "stream",
     "text": [
      "precision  0.5732\n",
      "recall  0.5732\n",
      "F1 score on Test 0.5732\n"
     ]
    }
   ],
   "source": [
    "y_predLOF = y_pred.copy()\n",
    "y_predDF = pd.DataFrame(y_predLOF)\n",
    "\n",
    "y_predDF[y_predDF[0] == 1] = 0\n",
    "y_predDF[y_predDF[0] == -1] = 1\n",
    "\n",
    "y_predLOF = y_predDF.values\n",
    "y_predLOF = np.ravel(y_predLOF)\n",
    "\n",
    "# F1 Score\n",
    "#print(\"F1 score\", round(f1_score(y_valid,pred, average='binary'), 4))\n",
    "precision,recall,fbeta_score, support  = precision_recall_fscore_support(y_test, y_predLOF, average='binary')\n",
    "print(\"precision \", round((precision), 4))\n",
    "print(\"recall \", round((recall), 4))\n",
    "print(\"F1 score on Test\", round((fbeta_score), 4))"
   ]
  },
  {
   "cell_type": "markdown",
   "metadata": {},
   "source": [
    "# Robust Covariance (Elliptic Envelope)\n",
    "\n",
    "Requires same manipulation as LOF ... inliers = 1 and outliers = -1 while the original is normal = 0 and fraud = 1"
   ]
  },
  {
   "cell_type": "code",
   "execution_count": 56,
   "metadata": {
    "_kg_hide-input": true
   },
   "outputs": [
    {
     "name": "stdout",
     "output_type": "stream",
     "text": [
      "X_inliers  (75000, 30)\n",
      "X_outliers  (492, 30)\n",
      "X  (75492, 30)\n",
      "n_outliers  492\n",
      "percent fraud in test:  0.0065172468605945\n"
     ]
    }
   ],
   "source": [
    "#  SCALER / Normalization\n",
    "\n",
    "data = dfRaw.copy()\n",
    "scl = StandardScaler()\n",
    "all_cols = list(data)[:] \n",
    "pca_columns = list(data)[:-1] # all cols without Class\n",
    "Xcopy = data[pca_columns]\n",
    "XcopyALL = data[all_cols]\n",
    "Xscaled = scl.fit_transform(Xcopy)\n",
    "OnlyClass = data['Class'].values.reshape(-1,1)\n",
    "data = np.concatenate((Xscaled, OnlyClass), axis=1)\n",
    "data = pd.DataFrame(data, columns = XcopyALL.columns)\n",
    "\n",
    "normal_data = data.loc[data[\"Class\"] == 0]\n",
    "fraud_data = data.loc[data[\"Class\"] == 1]\n",
    "\n",
    "data = dfRaw.copy()\n",
    "scl = StandardScaler()\n",
    "all_cols = list(data)[:] \n",
    "pca_columns = list(data)[:-1] # all cols without Class\n",
    "Xcopy = data[pca_columns]\n",
    "XcopyALL = data[all_cols]\n",
    "Xscaled = scl.fit_transform(Xcopy)\n",
    "OnlyClass = data['Class'].values.reshape(-1,1)\n",
    "data = np.concatenate((Xscaled, OnlyClass), axis=1)\n",
    "data = pd.DataFrame(data, columns = XcopyALL.columns)\n",
    "\n",
    "normal_data = data.loc[data[\"Class\"] == 0]\n",
    "fraud_data = data.loc[data[\"Class\"] == 1]\n",
    "\n",
    "# CREATE the TRAIN and TEST sets\n",
    "# Fraud data is ONLY in TEST - not in TRAIN\n",
    "\n",
    "normal_pca_data = normal_data[pca_columns]\n",
    "fraud_pca_data = fraud_data[pca_columns]\n",
    "\n",
    "num_test = 75000\n",
    "shuffled_data = normal_pca_data.sample(frac=1, random_state=1960)[:-num_test].values\n",
    "X_train = shuffled_data\n",
    "\n",
    "X_test = np.concatenate([shuffled_data[-num_test:], fraud_pca_data[:]])\n",
    "y_test = np.concatenate([np.zeros(num_test), np.ones(492)])\n",
    "\n",
    "\n",
    "X_inliers = shuffled_data[-num_test:]\n",
    "X_outliers = fraud_pca_data[:]\n",
    "X = np.r_[X_inliers, X_outliers]\n",
    "\n",
    "n_outliers = len(X_outliers)\n",
    "ground_truth = np.ones(len(X), dtype=int)\n",
    "ground_truth[-n_outliers:] = -1\n",
    "\n",
    "PercFraud = n_outliers / X_test.shape[0]\n",
    "PercFraud\n",
    "\n",
    "print('X_inliers ', X_inliers.shape)\n",
    "print('X_outliers ', X_outliers.shape)\n",
    "print('X ', X.shape)\n",
    "print('n_outliers ', n_outliers)\n",
    "print('percent fraud in test: ', PercFraud)\n"
   ]
  },
  {
   "cell_type": "code",
   "execution_count": 57,
   "metadata": {},
   "outputs": [
    {
     "data": {
      "text/plain": [
       "196"
      ]
     },
     "execution_count": 57,
     "metadata": {},
     "output_type": "execute_result"
    }
   ],
   "source": [
    "cov = EllipticEnvelope(support_fraction = 0.994, contamination = PercFraud)\n",
    "\n",
    "y_pred = cov.fit_predict(X)\n",
    "n_errors = (y_pred != ground_truth).sum()\n",
    "n_errors"
   ]
  },
  {
   "cell_type": "code",
   "execution_count": 58,
   "metadata": {},
   "outputs": [
    {
     "name": "stdout",
     "output_type": "stream",
     "text": [
      "precision  0.8008\n",
      "recall  0.8008\n",
      "F1 score on Test 0.8008\n"
     ]
    }
   ],
   "source": [
    "y_predLOF = y_pred.copy()\n",
    "y_predDF = pd.DataFrame(y_predLOF)\n",
    "\n",
    "y_predDF[y_predDF[0] == 1] = 0\n",
    "y_predDF[y_predDF[0] == -1] = 1\n",
    "\n",
    "y_predLOF = y_predDF.values\n",
    "y_predLOF = np.ravel(y_predLOF)\n",
    "\n",
    "# F1 Score\n",
    "#print(\"F1 score\", round(f1_score(y_valid,pred, average='binary'), 4))\n",
    "precision,recall,fbeta_score, support  = precision_recall_fscore_support(y_test, y_predLOF, average='binary')\n",
    "print(\"precision \", round((precision), 4))\n",
    "print(\"recall \", round((recall), 4))\n",
    "print(\"F1 score on Test\", round((fbeta_score), 4))"
   ]
  },
  {
   "cell_type": "code",
   "execution_count": 59,
   "metadata": {},
   "outputs": [
    {
     "name": "stdout",
     "output_type": "stream",
     "text": [
      "[[74902    98]\n",
      " [   98   394]]\n",
      "__________________________________________________\n",
      "TP  394\n",
      "FP  98\n",
      "TN  74902\n",
      "FN  98\n"
     ]
    }
   ],
   "source": [
    "CM = confusion_matrix(y_test, y_predLOF)\n",
    "tn, fp, fn, tp = confusion_matrix(y_test, y_predLOF).ravel()\n",
    "\n",
    "print(CM)\n",
    "print(\"_\"*50)\n",
    "print(\"TP \", tp)\n",
    "print(\"FP \", fp)\n",
    "print(\"TN \", tn)\n",
    "print(\"FN \", fn)"
   ]
  },
  {
   "cell_type": "code",
   "execution_count": 60,
   "metadata": {},
   "outputs": [
    {
     "data": {
      "image/png": "[encoded data removed]",
      "text/plain": [
       "<Figure size 576x432 with 2 Axes>"
      ]
     },
     "metadata": {},
     "output_type": "display_data"
    }
   ],
   "source": [
    "plot_confusion_matrix(CM, \n",
    "                      normalize    = False,\n",
    "                      target_names = ['Normal', 'Fraud'],\n",
    "                      title        = \"Confusion Matrix\")"
   ]
  },
  {
   "cell_type": "code",
   "execution_count": 61,
   "metadata": {},
   "outputs": [
    {
     "name": "stdout",
     "output_type": "stream",
     "text": [
      "F1 score on test 0.8028  with support_fraction  0.95\n",
      "F1 score on test 0.8028  with support_fraction  0.96\n",
      "F1 score on test 0.8028  with support_fraction  0.97\n",
      "F1 score on test 0.8028  with support_fraction  0.98\n",
      "F1 score on test 0.8008  with support_fraction  0.99\n"
     ]
    },
    {
     "data": {
      "text/html": [
       "<div>\n",
       "<style scoped>\n",
       "    .dataframe tbody tr th:only-of-type {\n",
       "        vertical-align: middle;\n",
       "    }\n",
       "\n",
       "    .dataframe tbody tr th {\n",
       "        vertical-align: top;\n",
       "    }\n",
       "\n",
       "    .dataframe thead th {\n",
       "        text-align: right;\n",
       "    }\n",
       "</style>\n",
       "<table border=\"1\" class=\"dataframe\">\n",
       "  <thead>\n",
       "    <tr style=\"text-align: right;\">\n",
       "      <th></th>\n",
       "      <th>SupFrac</th>\n",
       "      <th>F1</th>\n",
       "    </tr>\n",
       "  </thead>\n",
       "  <tbody>\n",
       "    <tr>\n",
       "      <th>0</th>\n",
       "      <td>0.95</td>\n",
       "      <td>0.8028</td>\n",
       "    </tr>\n",
       "    <tr>\n",
       "      <th>1</th>\n",
       "      <td>0.96</td>\n",
       "      <td>0.8028</td>\n",
       "    </tr>\n",
       "    <tr>\n",
       "      <th>2</th>\n",
       "      <td>0.97</td>\n",
       "      <td>0.8028</td>\n",
       "    </tr>\n",
       "    <tr>\n",
       "      <th>3</th>\n",
       "      <td>0.98</td>\n",
       "      <td>0.8028</td>\n",
       "    </tr>\n",
       "    <tr>\n",
       "      <th>4</th>\n",
       "      <td>0.99</td>\n",
       "      <td>0.8008</td>\n",
       "    </tr>\n",
       "  </tbody>\n",
       "</table>\n",
       "</div>"
      ],
      "text/plain": [
       "   SupFrac      F1\n",
       "0     0.95  0.8028\n",
       "1     0.96  0.8028\n",
       "2     0.97  0.8028\n",
       "3     0.98  0.8028\n",
       "4     0.99  0.8008"
      ]
     },
     "execution_count": 61,
     "metadata": {},
     "output_type": "execute_result"
    }
   ],
   "source": [
    "# Optimize support_fraction hyper paramter for best F1\n",
    "\n",
    "minRE = 0.95\n",
    "maxRE = 0.99\n",
    "    \n",
    "EpsF1 = []\n",
    "\n",
    "for TryRE in np.arange(minRE, maxRE, 0.01):\n",
    "    cov = EllipticEnvelope(support_fraction = TryRE, contamination = PercFraud)\n",
    "    y_pred = cov.fit_predict(X)\n",
    "    n_errors = (y_pred != ground_truth).sum()\n",
    "    \n",
    "    y_predLOF = y_pred.copy()\n",
    "    y_predDF = pd.DataFrame(y_predLOF)\n",
    "    \n",
    "    y_predDF[y_predDF[0] == 1] = 0\n",
    "    y_predDF[y_predDF[0] == -1] = 1\n",
    "    \n",
    "    y_predLOF = y_predDF.values\n",
    "    y_predLOF = np.ravel(y_predLOF)\n",
    "    \n",
    "    precision,recall,fbeta_score, support  = precision_recall_fscore_support(y_test, y_predLOF, average='binary')\n",
    "    \n",
    "    print(\"F1 score on test\", round(fbeta_score,4), \" with support_fraction \", TryRE)\n",
    "    EpsF1.append([TryRE, round(fbeta_score,4)])\n",
    "    \n",
    "EpsF1df = pd.DataFrame(EpsF1, columns = ['SupFrac', 'F1'])\n",
    "EpsF1df.head()"
   ]
  },
  {
   "cell_type": "code",
   "execution_count": 62,
   "metadata": {},
   "outputs": [
    {
     "data": {
      "image/png": "[encoded data removed]",
      "text/plain": [
       "<Figure size 432x288 with 1 Axes>"
      ]
     },
     "metadata": {},
     "output_type": "display_data"
    }
   ],
   "source": [
    "EpsF1df.plot.line(\"SupFrac\",\"F1\")\n",
    "plt.xlim(minRE, maxRE)\n",
    "plt.title(\"F1 vs SupFrac\")\n",
    "plt.show()"
   ]
  },
  {
   "cell_type": "markdown",
   "metadata": {},
   "source": [
    "# Isolation Forest\n",
    "Requires same manipulation as LOF ... inliers = 1 and outliers = -1 while the original is normal = 0 and fraud = 1"
   ]
  },
  {
   "cell_type": "code",
   "execution_count": 63,
   "metadata": {
    "_kg_hide-input": true
   },
   "outputs": [
    {
     "name": "stdout",
     "output_type": "stream",
     "text": [
      "X_inliers  (75000, 30)\n",
      "X_outliers  (492, 30)\n",
      "X  (75492, 30)\n",
      "n_outliers  492\n",
      "percent fraud in test:  0.0065172468605945\n"
     ]
    }
   ],
   "source": [
    "#  SCALER / Normalization\n",
    "\n",
    "data = dfRaw.copy()\n",
    "scl = StandardScaler()\n",
    "all_cols = list(data)[:] \n",
    "pca_columns = list(data)[:-1] # all cols without Class\n",
    "Xcopy = data[pca_columns]\n",
    "XcopyALL = data[all_cols]\n",
    "Xscaled = scl.fit_transform(Xcopy)\n",
    "OnlyClass = data['Class'].values.reshape(-1,1)\n",
    "data = np.concatenate((Xscaled, OnlyClass), axis=1)\n",
    "data = pd.DataFrame(data, columns = XcopyALL.columns)\n",
    "\n",
    "normal_data = data.loc[data[\"Class\"] == 0]\n",
    "fraud_data = data.loc[data[\"Class\"] == 1]\n",
    "\n",
    "data = dfRaw.copy()\n",
    "scl = StandardScaler()\n",
    "all_cols = list(data)[:] \n",
    "pca_columns = list(data)[:-1] # all cols without Class\n",
    "Xcopy = data[pca_columns]\n",
    "XcopyALL = data[all_cols]\n",
    "Xscaled = scl.fit_transform(Xcopy)\n",
    "OnlyClass = data['Class'].values.reshape(-1,1)\n",
    "data = np.concatenate((Xscaled, OnlyClass), axis=1)\n",
    "data = pd.DataFrame(data, columns = XcopyALL.columns)\n",
    "\n",
    "normal_data = data.loc[data[\"Class\"] == 0]\n",
    "fraud_data = data.loc[data[\"Class\"] == 1]\n",
    "\n",
    "# CREATE the TRAIN and TEST sets\n",
    "# Fraud data is ONLY in TEST - not in TRAIN\n",
    "\n",
    "normal_pca_data = normal_data[pca_columns]\n",
    "fraud_pca_data = fraud_data[pca_columns]\n",
    "\n",
    "num_test = 75000\n",
    "shuffled_data = normal_pca_data.sample(frac=1, random_state=1960)[:-num_test].values\n",
    "X_train = shuffled_data\n",
    "\n",
    "X_test = np.concatenate([shuffled_data[-num_test:], fraud_pca_data[:]])\n",
    "y_test = np.concatenate([np.zeros(num_test), np.ones(492)])\n",
    "\n",
    "\n",
    "X_inliers = shuffled_data[-num_test:]\n",
    "X_outliers = fraud_pca_data[:]\n",
    "X = np.r_[X_inliers, X_outliers]\n",
    "\n",
    "n_outliers = len(X_outliers)\n",
    "ground_truth = np.ones(len(X), dtype=int)\n",
    "ground_truth[-n_outliers:] = -1\n",
    "\n",
    "PercFraud = n_outliers / X_test.shape[0]\n",
    "PercFraud\n",
    "\n",
    "print('X_inliers ', X_inliers.shape)\n",
    "print('X_outliers ', X_outliers.shape)\n",
    "print('X ', X.shape)\n",
    "print('n_outliers ', n_outliers)\n",
    "print('percent fraud in test: ', PercFraud)\n"
   ]
  },
  {
   "cell_type": "code",
   "execution_count": 64,
   "metadata": {},
   "outputs": [
    {
     "name": "stdout",
     "output_type": "stream",
     "text": [
      "522\n",
      "CPU times: user 1min 48s, sys: 6.34 s, total: 1min 55s\n",
      "Wall time: 1min 55s\n"
     ]
    }
   ],
   "source": [
    "%%time\n",
    "\n",
    "isofo = IsolationForest(n_estimators = 1050, max_features = 1.0, max_samples=1.0, \n",
    "                        behaviour=\"new\", bootstrap=False, random_state=22,\n",
    "                        contamination = PercFraud)\n",
    "\n",
    "y_pred = isofo.fit_predict(X)\n",
    "n_errors = (y_pred != ground_truth).sum()\n",
    "print(n_errors)"
   ]
  },
  {
   "cell_type": "code",
   "execution_count": 65,
   "metadata": {},
   "outputs": [
    {
     "name": "stdout",
     "output_type": "stream",
     "text": [
      "precision  0.4695\n",
      "recall  0.4695\n",
      "F1 score on Test 0.4695\n"
     ]
    }
   ],
   "source": [
    "y_predLOF = y_pred.copy()\n",
    "y_predDF = pd.DataFrame(y_predLOF)\n",
    "\n",
    "y_predDF[y_predDF[0] == 1] = 0\n",
    "y_predDF[y_predDF[0] == -1] = 1\n",
    "\n",
    "y_predLOF = y_predDF.values\n",
    "y_predLOF = np.ravel(y_predLOF)\n",
    "\n",
    "# F1 Score\n",
    "#print(\"F1 score\", round(f1_score(y_valid,pred, average='binary'), 4))\n",
    "precision,recall,fbeta_score, support  = precision_recall_fscore_support(y_test, y_predLOF, average='binary')\n",
    "print(\"precision \", round((precision), 4))\n",
    "print(\"recall \", round((recall), 4))\n",
    "print(\"F1 score on Test\", round((fbeta_score), 4))"
   ]
  },
  {
   "cell_type": "code",
   "execution_count": 66,
   "metadata": {},
   "outputs": [
    {
     "name": "stdout",
     "output_type": "stream",
     "text": [
      "F1 score on test 0.4634  with num_estimators  900\n",
      "F1 score on test 0.4654  with num_estimators  950\n",
      "F1 score on test 0.4695  with num_estimators  1000\n",
      "F1 score on test 0.4695  with num_estimators  1050\n",
      "F1 score on test 0.4695  with num_estimators  1100\n"
     ]
    },
    {
     "data": {
      "text/html": [
       "<div>\n",
       "<style scoped>\n",
       "    .dataframe tbody tr th:only-of-type {\n",
       "        vertical-align: middle;\n",
       "    }\n",
       "\n",
       "    .dataframe tbody tr th {\n",
       "        vertical-align: top;\n",
       "    }\n",
       "\n",
       "    .dataframe thead th {\n",
       "        text-align: right;\n",
       "    }\n",
       "</style>\n",
       "<table border=\"1\" class=\"dataframe\">\n",
       "  <thead>\n",
       "    <tr style=\"text-align: right;\">\n",
       "      <th></th>\n",
       "      <th>NumEstim</th>\n",
       "      <th>F1</th>\n",
       "    </tr>\n",
       "  </thead>\n",
       "  <tbody>\n",
       "    <tr>\n",
       "      <th>0</th>\n",
       "      <td>900</td>\n",
       "      <td>0.4634</td>\n",
       "    </tr>\n",
       "    <tr>\n",
       "      <th>1</th>\n",
       "      <td>950</td>\n",
       "      <td>0.4654</td>\n",
       "    </tr>\n",
       "    <tr>\n",
       "      <th>2</th>\n",
       "      <td>1000</td>\n",
       "      <td>0.4695</td>\n",
       "    </tr>\n",
       "    <tr>\n",
       "      <th>3</th>\n",
       "      <td>1050</td>\n",
       "      <td>0.4695</td>\n",
       "    </tr>\n",
       "    <tr>\n",
       "      <th>4</th>\n",
       "      <td>1100</td>\n",
       "      <td>0.4695</td>\n",
       "    </tr>\n",
       "  </tbody>\n",
       "</table>\n",
       "</div>"
      ],
      "text/plain": [
       "   NumEstim      F1\n",
       "0       900  0.4634\n",
       "1       950  0.4654\n",
       "2      1000  0.4695\n",
       "3      1050  0.4695\n",
       "4      1100  0.4695"
      ]
     },
     "execution_count": 66,
     "metadata": {},
     "output_type": "execute_result"
    }
   ],
   "source": [
    "# Optimize Num Estimators hyper paramter for best F1\n",
    "\n",
    "minRE = 900\n",
    "maxRE = 1150\n",
    "    \n",
    "EpsF1 = []\n",
    "\n",
    "for TryRE in np.arange(minRE, maxRE, 50):\n",
    "    isofo = IsolationForest(n_estimators = TryRE, max_features = 1.0, max_samples=1.0, \n",
    "                        behaviour=\"new\", bootstrap=False, random_state=22,\n",
    "                        contamination = PercFraud)\n",
    "\n",
    "    y_pred = isofo.fit_predict(X)\n",
    "    n_errors = (y_pred != ground_truth).sum()\n",
    "    \n",
    "    y_predLOF = y_pred.copy()\n",
    "    y_predDF = pd.DataFrame(y_predLOF)\n",
    "    \n",
    "    y_predDF[y_predDF[0] == 1] = 0\n",
    "    y_predDF[y_predDF[0] == -1] = 1\n",
    "    \n",
    "    y_predLOF = y_predDF.values\n",
    "    y_predLOF = np.ravel(y_predLOF)\n",
    "    \n",
    "    precision,recall,fbeta_score, support  = precision_recall_fscore_support(y_test, y_predLOF, average='binary')\n",
    "    \n",
    "    print(\"F1 score on test\", round(fbeta_score,4), \" with num_estimators \", TryRE)\n",
    "    EpsF1.append([TryRE, round(fbeta_score,4)])\n",
    "    \n",
    "EpsF1df = pd.DataFrame(EpsF1, columns = ['NumEstim', 'F1'])\n",
    "EpsF1df.head()"
   ]
  },
  {
   "cell_type": "code",
   "execution_count": 67,
   "metadata": {},
   "outputs": [
    {
     "data": {
      "image/png": "[encoded data removed]",
      "text/plain": [
       "<Figure size 432x288 with 1 Axes>"
      ]
     },
     "metadata": {},
     "output_type": "display_data"
    }
   ],
   "source": [
    "EpsF1df.plot.line(\"NumEstim\",\"F1\")\n",
    "plt.xlim(minRE, maxRE)\n",
    "plt.title(\"F1 vs NumEstim\")\n",
    "plt.show()"
   ]
  },
  {
   "cell_type": "markdown",
   "metadata": {},
   "source": [
    "# One Class SVM\n",
    "Requires same manipulation as LOF ... inliers = 1 and outliers = -1 while the original is normal = 0 and fraud = 1"
   ]
  },
  {
   "cell_type": "code",
   "execution_count": 68,
   "metadata": {
    "_kg_hide-input": true
   },
   "outputs": [
    {
     "name": "stdout",
     "output_type": "stream",
     "text": [
      "X_inliers  (75000, 30)\n",
      "X_outliers  (492, 30)\n",
      "X  (75492, 30)\n",
      "n_outliers  492\n",
      "percent fraud in test:  0.0065172468605945\n"
     ]
    }
   ],
   "source": [
    "#  SCALER / Normalization\n",
    "\n",
    "data = dfRaw.copy()\n",
    "scl = StandardScaler()\n",
    "all_cols = list(data)[:] \n",
    "pca_columns = list(data)[:-1] # all cols without Class\n",
    "Xcopy = data[pca_columns]\n",
    "XcopyALL = data[all_cols]\n",
    "Xscaled = scl.fit_transform(Xcopy)\n",
    "OnlyClass = data['Class'].values.reshape(-1,1)\n",
    "data = np.concatenate((Xscaled, OnlyClass), axis=1)\n",
    "data = pd.DataFrame(data, columns = XcopyALL.columns)\n",
    "\n",
    "normal_data = data.loc[data[\"Class\"] == 0]\n",
    "fraud_data = data.loc[data[\"Class\"] == 1]\n",
    "\n",
    "data = dfRaw.copy()\n",
    "scl = StandardScaler()\n",
    "all_cols = list(data)[:] \n",
    "pca_columns = list(data)[:-1] # all cols without Class\n",
    "Xcopy = data[pca_columns]\n",
    "XcopyALL = data[all_cols]\n",
    "Xscaled = scl.fit_transform(Xcopy)\n",
    "OnlyClass = data['Class'].values.reshape(-1,1)\n",
    "data = np.concatenate((Xscaled, OnlyClass), axis=1)\n",
    "data = pd.DataFrame(data, columns = XcopyALL.columns)\n",
    "\n",
    "normal_data = data.loc[data[\"Class\"] == 0]\n",
    "fraud_data = data.loc[data[\"Class\"] == 1]\n",
    "\n",
    "# CREATE the TRAIN and TEST sets\n",
    "# Fraud data is ONLY in TEST - not in TRAIN\n",
    "\n",
    "normal_pca_data = normal_data[pca_columns]\n",
    "fraud_pca_data = fraud_data[pca_columns]\n",
    "\n",
    "num_test = 75000\n",
    "shuffled_data = normal_pca_data.sample(frac=1, random_state=1960)[:-num_test].values\n",
    "X_train = shuffled_data\n",
    "\n",
    "X_test = np.concatenate([shuffled_data[-num_test:], fraud_pca_data[:]])\n",
    "y_test = np.concatenate([np.zeros(num_test), np.ones(492)])\n",
    "\n",
    "\n",
    "X_inliers = shuffled_data[-num_test:]\n",
    "X_outliers = fraud_pca_data[:]\n",
    "X = np.r_[X_inliers, X_outliers]\n",
    "\n",
    "n_outliers = len(X_outliers)\n",
    "ground_truth = np.ones(len(X), dtype=int)\n",
    "ground_truth[-n_outliers:] = -1\n",
    "\n",
    "PercFraud = n_outliers / X_test.shape[0]\n",
    "PercFraud\n",
    "\n",
    "print('X_inliers ', X_inliers.shape)\n",
    "print('X_outliers ', X_outliers.shape)\n",
    "print('X ', X.shape)\n",
    "print('n_outliers ', n_outliers)\n",
    "print('percent fraud in test: ', PercFraud)\n"
   ]
  },
  {
   "cell_type": "code",
   "execution_count": 69,
   "metadata": {},
   "outputs": [
    {
     "name": "stderr",
     "output_type": "stream",
     "text": [
      "/opt/conda/lib/python3.6/site-packages/sklearn/svm/base.py:196: FutureWarning: The default value of gamma will change from 'auto' to 'scale' in version 0.22 to account better for unscaled features. Set gamma explicitly to 'auto' or 'scale' to avoid this warning.\n",
      "  \"avoid this warning.\", FutureWarning)\n"
     ]
    },
    {
     "name": "stdout",
     "output_type": "stream",
     "text": [
      "981\n",
      "CPU times: user 37.3 s, sys: 87.6 ms, total: 37.4 s\n",
      "Wall time: 37.4 s\n"
     ]
    }
   ],
   "source": [
    "%%time\n",
    "\n",
    "OneSVM = OneClassSVM(nu = PercFraud)\n",
    "\n",
    "y_pred = OneSVM.fit_predict(X)\n",
    "n_errors = (y_pred != ground_truth).sum()\n",
    "print(n_errors)"
   ]
  },
  {
   "cell_type": "code",
   "execution_count": 70,
   "metadata": {},
   "outputs": [
    {
     "name": "stdout",
     "output_type": "stream",
     "text": [
      "precision  0.1646\n",
      "recall  0.2439\n",
      "F1 score on Test 0.1966\n"
     ]
    }
   ],
   "source": [
    "y_predLOF = y_pred.copy()\n",
    "y_predDF = pd.DataFrame(y_predLOF)\n",
    "\n",
    "y_predDF[y_predDF[0] == 1] = 0\n",
    "y_predDF[y_predDF[0] == -1] = 1\n",
    "\n",
    "y_predLOF = y_predDF.values\n",
    "y_predLOF = np.ravel(y_predLOF)\n",
    "\n",
    "# F1 Score\n",
    "#print(\"F1 score\", round(f1_score(y_valid,pred, average='binary'), 4))\n",
    "precision,recall,fbeta_score, support  = precision_recall_fscore_support(y_test, y_predLOF, average='binary')\n",
    "print(\"precision \", round((precision), 4))\n",
    "print(\"recall \", round((recall), 4))\n",
    "print(\"F1 score on Test\", round((fbeta_score), 4))"
   ]
  },
  {
   "cell_type": "code",
   "execution_count": 71,
   "metadata": {},
   "outputs": [
    {
     "name": "stderr",
     "output_type": "stream",
     "text": [
      "/opt/conda/lib/python3.6/site-packages/sklearn/svm/base.py:196: FutureWarning: The default value of gamma will change from 'auto' to 'scale' in version 0.22 to account better for unscaled features. Set gamma explicitly to 'auto' or 'scale' to avoid this warning.\n",
      "  \"avoid this warning.\", FutureWarning)\n"
     ]
    },
    {
     "name": "stdout",
     "output_type": "stream",
     "text": [
      "F1 score on test 0.2567  with nu  0.017\n"
     ]
    },
    {
     "name": "stderr",
     "output_type": "stream",
     "text": [
      "/opt/conda/lib/python3.6/site-packages/sklearn/svm/base.py:196: FutureWarning: The default value of gamma will change from 'auto' to 'scale' in version 0.22 to account better for unscaled features. Set gamma explicitly to 'auto' or 'scale' to avoid this warning.\n",
      "  \"avoid this warning.\", FutureWarning)\n"
     ]
    },
    {
     "name": "stdout",
     "output_type": "stream",
     "text": [
      "F1 score on test 0.269  with nu  0.018000000000000002\n"
     ]
    },
    {
     "name": "stderr",
     "output_type": "stream",
     "text": [
      "/opt/conda/lib/python3.6/site-packages/sklearn/svm/base.py:196: FutureWarning: The default value of gamma will change from 'auto' to 'scale' in version 0.22 to account better for unscaled features. Set gamma explicitly to 'auto' or 'scale' to avoid this warning.\n",
      "  \"avoid this warning.\", FutureWarning)\n"
     ]
    },
    {
     "name": "stdout",
     "output_type": "stream",
     "text": [
      "F1 score on test 0.2596  with nu  0.019000000000000003\n"
     ]
    },
    {
     "name": "stderr",
     "output_type": "stream",
     "text": [
      "/opt/conda/lib/python3.6/site-packages/sklearn/svm/base.py:196: FutureWarning: The default value of gamma will change from 'auto' to 'scale' in version 0.22 to account better for unscaled features. Set gamma explicitly to 'auto' or 'scale' to avoid this warning.\n",
      "  \"avoid this warning.\", FutureWarning)\n"
     ]
    },
    {
     "name": "stdout",
     "output_type": "stream",
     "text": [
      "F1 score on test 0.2695  with nu  0.020000000000000004\n"
     ]
    },
    {
     "name": "stderr",
     "output_type": "stream",
     "text": [
      "/opt/conda/lib/python3.6/site-packages/sklearn/svm/base.py:196: FutureWarning: The default value of gamma will change from 'auto' to 'scale' in version 0.22 to account better for unscaled features. Set gamma explicitly to 'auto' or 'scale' to avoid this warning.\n",
      "  \"avoid this warning.\", FutureWarning)\n"
     ]
    },
    {
     "name": "stdout",
     "output_type": "stream",
     "text": [
      "F1 score on test 0.2585  with nu  0.021000000000000005\n"
     ]
    },
    {
     "data": {
      "text/html": [
       "<div>\n",
       "<style scoped>\n",
       "    .dataframe tbody tr th:only-of-type {\n",
       "        vertical-align: middle;\n",
       "    }\n",
       "\n",
       "    .dataframe tbody tr th {\n",
       "        vertical-align: top;\n",
       "    }\n",
       "\n",
       "    .dataframe thead th {\n",
       "        text-align: right;\n",
       "    }\n",
       "</style>\n",
       "<table border=\"1\" class=\"dataframe\">\n",
       "  <thead>\n",
       "    <tr style=\"text-align: right;\">\n",
       "      <th></th>\n",
       "      <th>nu</th>\n",
       "      <th>F1</th>\n",
       "    </tr>\n",
       "  </thead>\n",
       "  <tbody>\n",
       "    <tr>\n",
       "      <th>0</th>\n",
       "      <td>0.017</td>\n",
       "      <td>0.2567</td>\n",
       "    </tr>\n",
       "    <tr>\n",
       "      <th>1</th>\n",
       "      <td>0.018</td>\n",
       "      <td>0.2690</td>\n",
       "    </tr>\n",
       "    <tr>\n",
       "      <th>2</th>\n",
       "      <td>0.019</td>\n",
       "      <td>0.2596</td>\n",
       "    </tr>\n",
       "    <tr>\n",
       "      <th>3</th>\n",
       "      <td>0.020</td>\n",
       "      <td>0.2695</td>\n",
       "    </tr>\n",
       "    <tr>\n",
       "      <th>4</th>\n",
       "      <td>0.021</td>\n",
       "      <td>0.2585</td>\n",
       "    </tr>\n",
       "  </tbody>\n",
       "</table>\n",
       "</div>"
      ],
      "text/plain": [
       "      nu      F1\n",
       "0  0.017  0.2567\n",
       "1  0.018  0.2690\n",
       "2  0.019  0.2596\n",
       "3  0.020  0.2695\n",
       "4  0.021  0.2585"
      ]
     },
     "execution_count": 71,
     "metadata": {},
     "output_type": "execute_result"
    }
   ],
   "source": [
    "# Optimize nu hyper paramter for best F1\n",
    "\n",
    "minRE = 0.017\n",
    "maxRE = 0.022\n",
    "    \n",
    "EpsF1 = []\n",
    "\n",
    "for TryRE in np.arange(minRE, maxRE, 0.001):\n",
    "    OneSVM = OneClassSVM(nu = TryRE)\n",
    "    y_pred = OneSVM.fit_predict(X)\n",
    "    n_errors = (y_pred != ground_truth).sum()\n",
    "    \n",
    "    y_predLOF = y_pred.copy()\n",
    "    y_predDF = pd.DataFrame(y_predLOF)\n",
    "    \n",
    "    y_predDF[y_predDF[0] == 1] = 0\n",
    "    y_predDF[y_predDF[0] == -1] = 1\n",
    "    \n",
    "    y_predLOF = y_predDF.values\n",
    "    y_predLOF = np.ravel(y_predLOF)\n",
    "    \n",
    "    precision,recall,fbeta_score, support  = precision_recall_fscore_support(y_test, y_predLOF, average='binary')\n",
    "    \n",
    "    print(\"F1 score on test\", round(fbeta_score,4), \" with nu \", TryRE)\n",
    "    EpsF1.append([TryRE, round(fbeta_score,4)])\n",
    "    \n",
    "EpsF1df = pd.DataFrame(EpsF1, columns = ['nu', 'F1'])\n",
    "EpsF1df.head()"
   ]
  },
  {
   "cell_type": "code",
   "execution_count": 72,
   "metadata": {},
   "outputs": [
    {
     "data": {
      "image/png": "[encoded data removed]",
      "text/plain": [
       "<Figure size 432x288 with 1 Axes>"
      ]
     },
     "metadata": {},
     "output_type": "display_data"
    }
   ],
   "source": [
    "EpsF1df.plot.line(\"nu\",\"F1\")\n",
    "plt.xlim(minRE, maxRE)\n",
    "plt.title(\"F1 vs nu\")\n",
    "plt.show()"
   ]
  }
 ],
 "metadata": {
  "kernelspec": {
   "display_name": "Python 3",
   "language": "python",
   "name": "python3"
  },
  "language_info": {
   "codemirror_mode": {
    "name": "ipython",
    "version": 3
   },
   "file_extension": ".py",
   "mimetype": "text/x-python",
   "name": "python",
   "nbconvert_exporter": "python",
   "pygments_lexer": "ipython3",
   "version": "3.6.4"
  }
 },
 "nbformat": 4,
 "nbformat_minor": 4
}
